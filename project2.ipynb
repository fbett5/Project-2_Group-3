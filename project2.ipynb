{
  "nbformat": 4,
  "nbformat_minor": 5,
  "metadata": {
    "celltoolbar": "Slideshow",
    "kernelspec": {
      "display_name": "Python 3",
      "language": "python",
      "name": "python3"
    },
    "language_info": {
      "codemirror_mode": {
        "name": "ipython",
        "version": 3
      },
      "file_extension": ".py",
      "mimetype": "text/x-python",
      "name": "python",
      "nbconvert_exporter": "python",
      "pygments_lexer": "ipython3",
      "version": "3.8.8"
    },
    "colab": {
      "name": "project2.ipynb",
      "provenance": [],
      "collapsed_sections": [],
      "include_colab_link": true
    }
  },
  "cells": [
    {
      "cell_type": "markdown",
      "metadata": {
        "id": "view-in-github",
        "colab_type": "text"
      },
      "source": [
        "<a href=\"https://colab.research.google.com/github/fbett5/Project-2_Group-3/blob/main/project2.ipynb\" target=\"_parent\"><img src=\"https://colab.research.google.com/assets/colab-badge.svg\" alt=\"Open In Colab\"/></a>"
      ]
    },
    {
      "cell_type": "code",
      "metadata": {
        "id": "b00f00f3"
      },
      "source": [
        "# !pip install rise\n",
        "\n",
        "# import warnings"
      ],
      "id": "b00f00f3",
      "execution_count": null,
      "outputs": []
    },
    {
      "cell_type": "markdown",
      "metadata": {
        "id": "ed491990"
      },
      "source": [
        "##### AUTOMOBILE DATASET ANALYSIS\n",
        "\n",
        "We planning to divide it into four parts:\n",
        "\n",
        "1. Data Wrangling -pre-processing data in python -dealing missing values -data formatting -data normalization -binning\n",
        "\n",
        "2. Exploratory Data Analysis -descriptive statistics -groupby -analysis of variance -correlation -correlation stats\n",
        "\n",
        "3. Model Development:\n",
        "\n",
        "A. Simple Linear Regression\n",
        "\n",
        "B. Multiple Linear Regression\n",
        "\n",
        "4. Model Evaluation:\n",
        "\n",
        "A. Regression Plots\n",
        "\n",
        "B. Distribution Plots\n",
        "\n"
      ],
      "id": "ed491990"
    },
    {
      "cell_type": "markdown",
      "metadata": {
        "id": "d164f569"
      },
      "source": [
        "# importing libraries"
      ],
      "id": "d164f569"
    },
    {
      "cell_type": "code",
      "metadata": {
        "id": "e48e2f12",
        "colab": {
          "base_uri": "https://localhost:8080/"
        },
        "outputId": "d43b378e-737a-4182-8e9c-93cc5c1257db"
      },
      "source": [
        "import pandas as pd\n",
        "import numpy as np\n",
        "import statsmodels.formula.api as smf\n",
        "import matplotlib.pyplot as plt\n",
        "import seaborn as sns "
      ],
      "id": "e48e2f12",
      "execution_count": null,
      "outputs": [
        {
          "output_type": "stream",
          "name": "stderr",
          "text": [
            "/usr/local/lib/python3.7/dist-packages/statsmodels/tools/_testing.py:19: FutureWarning: pandas.util.testing is deprecated. Use the functions in the public API at pandas.testing instead.\n",
            "  import pandas.util.testing as tm\n"
          ]
        }
      ]
    },
    {
      "cell_type": "code",
      "metadata": {
        "id": "c5b2c7e4"
      },
      "source": [
        "df = pd.read_csv('Automobile_data.csv')"
      ],
      "id": "c5b2c7e4",
      "execution_count": null,
      "outputs": []
    },
    {
      "cell_type": "code",
      "metadata": {
        "id": "a782ce76",
        "outputId": "ef44f3e1-4cc0-4d78-e3c2-5015770154a4"
      },
      "source": [
        "display(df)"
      ],
      "id": "a782ce76",
      "execution_count": null,
      "outputs": [
        {
          "data": {
            "text/html": [
              "<div>\n",
              "<style scoped>\n",
              "    .dataframe tbody tr th:only-of-type {\n",
              "        vertical-align: middle;\n",
              "    }\n",
              "\n",
              "    .dataframe tbody tr th {\n",
              "        vertical-align: top;\n",
              "    }\n",
              "\n",
              "    .dataframe thead th {\n",
              "        text-align: right;\n",
              "    }\n",
              "</style>\n",
              "<table border=\"1\" class=\"dataframe\">\n",
              "  <thead>\n",
              "    <tr style=\"text-align: right;\">\n",
              "      <th></th>\n",
              "      <th>symboling</th>\n",
              "      <th>normalized-losses</th>\n",
              "      <th>make</th>\n",
              "      <th>fuel-type</th>\n",
              "      <th>aspiration</th>\n",
              "      <th>num-of-doors</th>\n",
              "      <th>body-style</th>\n",
              "      <th>drive-wheels</th>\n",
              "      <th>engine-location</th>\n",
              "      <th>wheel-base</th>\n",
              "      <th>...</th>\n",
              "      <th>engine-size</th>\n",
              "      <th>fuel-system</th>\n",
              "      <th>bore</th>\n",
              "      <th>stroke</th>\n",
              "      <th>compression-ratio</th>\n",
              "      <th>horsepower</th>\n",
              "      <th>peak-rpm</th>\n",
              "      <th>city-mpg</th>\n",
              "      <th>highway-mpg</th>\n",
              "      <th>price</th>\n",
              "    </tr>\n",
              "  </thead>\n",
              "  <tbody>\n",
              "    <tr>\n",
              "      <th>0</th>\n",
              "      <td>3</td>\n",
              "      <td>?</td>\n",
              "      <td>alfa-romero</td>\n",
              "      <td>gas</td>\n",
              "      <td>std</td>\n",
              "      <td>two</td>\n",
              "      <td>convertible</td>\n",
              "      <td>rwd</td>\n",
              "      <td>front</td>\n",
              "      <td>88.6</td>\n",
              "      <td>...</td>\n",
              "      <td>130</td>\n",
              "      <td>mpfi</td>\n",
              "      <td>3.47</td>\n",
              "      <td>2.68</td>\n",
              "      <td>9.0</td>\n",
              "      <td>111</td>\n",
              "      <td>5000</td>\n",
              "      <td>21</td>\n",
              "      <td>27</td>\n",
              "      <td>13495</td>\n",
              "    </tr>\n",
              "    <tr>\n",
              "      <th>1</th>\n",
              "      <td>3</td>\n",
              "      <td>?</td>\n",
              "      <td>alfa-romero</td>\n",
              "      <td>gas</td>\n",
              "      <td>std</td>\n",
              "      <td>two</td>\n",
              "      <td>convertible</td>\n",
              "      <td>rwd</td>\n",
              "      <td>front</td>\n",
              "      <td>88.6</td>\n",
              "      <td>...</td>\n",
              "      <td>130</td>\n",
              "      <td>mpfi</td>\n",
              "      <td>3.47</td>\n",
              "      <td>2.68</td>\n",
              "      <td>9.0</td>\n",
              "      <td>111</td>\n",
              "      <td>5000</td>\n",
              "      <td>21</td>\n",
              "      <td>27</td>\n",
              "      <td>16500</td>\n",
              "    </tr>\n",
              "    <tr>\n",
              "      <th>2</th>\n",
              "      <td>1</td>\n",
              "      <td>?</td>\n",
              "      <td>alfa-romero</td>\n",
              "      <td>gas</td>\n",
              "      <td>std</td>\n",
              "      <td>two</td>\n",
              "      <td>hatchback</td>\n",
              "      <td>rwd</td>\n",
              "      <td>front</td>\n",
              "      <td>94.5</td>\n",
              "      <td>...</td>\n",
              "      <td>152</td>\n",
              "      <td>mpfi</td>\n",
              "      <td>2.68</td>\n",
              "      <td>3.47</td>\n",
              "      <td>9.0</td>\n",
              "      <td>154</td>\n",
              "      <td>5000</td>\n",
              "      <td>19</td>\n",
              "      <td>26</td>\n",
              "      <td>16500</td>\n",
              "    </tr>\n",
              "    <tr>\n",
              "      <th>3</th>\n",
              "      <td>2</td>\n",
              "      <td>164</td>\n",
              "      <td>audi</td>\n",
              "      <td>gas</td>\n",
              "      <td>std</td>\n",
              "      <td>four</td>\n",
              "      <td>sedan</td>\n",
              "      <td>fwd</td>\n",
              "      <td>front</td>\n",
              "      <td>99.8</td>\n",
              "      <td>...</td>\n",
              "      <td>109</td>\n",
              "      <td>mpfi</td>\n",
              "      <td>3.19</td>\n",
              "      <td>3.4</td>\n",
              "      <td>10.0</td>\n",
              "      <td>102</td>\n",
              "      <td>5500</td>\n",
              "      <td>24</td>\n",
              "      <td>30</td>\n",
              "      <td>13950</td>\n",
              "    </tr>\n",
              "    <tr>\n",
              "      <th>4</th>\n",
              "      <td>2</td>\n",
              "      <td>164</td>\n",
              "      <td>audi</td>\n",
              "      <td>gas</td>\n",
              "      <td>std</td>\n",
              "      <td>four</td>\n",
              "      <td>sedan</td>\n",
              "      <td>4wd</td>\n",
              "      <td>front</td>\n",
              "      <td>99.4</td>\n",
              "      <td>...</td>\n",
              "      <td>136</td>\n",
              "      <td>mpfi</td>\n",
              "      <td>3.19</td>\n",
              "      <td>3.4</td>\n",
              "      <td>8.0</td>\n",
              "      <td>115</td>\n",
              "      <td>5500</td>\n",
              "      <td>18</td>\n",
              "      <td>22</td>\n",
              "      <td>17450</td>\n",
              "    </tr>\n",
              "    <tr>\n",
              "      <th>...</th>\n",
              "      <td>...</td>\n",
              "      <td>...</td>\n",
              "      <td>...</td>\n",
              "      <td>...</td>\n",
              "      <td>...</td>\n",
              "      <td>...</td>\n",
              "      <td>...</td>\n",
              "      <td>...</td>\n",
              "      <td>...</td>\n",
              "      <td>...</td>\n",
              "      <td>...</td>\n",
              "      <td>...</td>\n",
              "      <td>...</td>\n",
              "      <td>...</td>\n",
              "      <td>...</td>\n",
              "      <td>...</td>\n",
              "      <td>...</td>\n",
              "      <td>...</td>\n",
              "      <td>...</td>\n",
              "      <td>...</td>\n",
              "      <td>...</td>\n",
              "    </tr>\n",
              "    <tr>\n",
              "      <th>200</th>\n",
              "      <td>-1</td>\n",
              "      <td>95</td>\n",
              "      <td>volvo</td>\n",
              "      <td>gas</td>\n",
              "      <td>std</td>\n",
              "      <td>four</td>\n",
              "      <td>sedan</td>\n",
              "      <td>rwd</td>\n",
              "      <td>front</td>\n",
              "      <td>109.1</td>\n",
              "      <td>...</td>\n",
              "      <td>141</td>\n",
              "      <td>mpfi</td>\n",
              "      <td>3.78</td>\n",
              "      <td>3.15</td>\n",
              "      <td>9.5</td>\n",
              "      <td>114</td>\n",
              "      <td>5400</td>\n",
              "      <td>23</td>\n",
              "      <td>28</td>\n",
              "      <td>16845</td>\n",
              "    </tr>\n",
              "    <tr>\n",
              "      <th>201</th>\n",
              "      <td>-1</td>\n",
              "      <td>95</td>\n",
              "      <td>volvo</td>\n",
              "      <td>gas</td>\n",
              "      <td>turbo</td>\n",
              "      <td>four</td>\n",
              "      <td>sedan</td>\n",
              "      <td>rwd</td>\n",
              "      <td>front</td>\n",
              "      <td>109.1</td>\n",
              "      <td>...</td>\n",
              "      <td>141</td>\n",
              "      <td>mpfi</td>\n",
              "      <td>3.78</td>\n",
              "      <td>3.15</td>\n",
              "      <td>8.7</td>\n",
              "      <td>160</td>\n",
              "      <td>5300</td>\n",
              "      <td>19</td>\n",
              "      <td>25</td>\n",
              "      <td>19045</td>\n",
              "    </tr>\n",
              "    <tr>\n",
              "      <th>202</th>\n",
              "      <td>-1</td>\n",
              "      <td>95</td>\n",
              "      <td>volvo</td>\n",
              "      <td>gas</td>\n",
              "      <td>std</td>\n",
              "      <td>four</td>\n",
              "      <td>sedan</td>\n",
              "      <td>rwd</td>\n",
              "      <td>front</td>\n",
              "      <td>109.1</td>\n",
              "      <td>...</td>\n",
              "      <td>173</td>\n",
              "      <td>mpfi</td>\n",
              "      <td>3.58</td>\n",
              "      <td>2.87</td>\n",
              "      <td>8.8</td>\n",
              "      <td>134</td>\n",
              "      <td>5500</td>\n",
              "      <td>18</td>\n",
              "      <td>23</td>\n",
              "      <td>21485</td>\n",
              "    </tr>\n",
              "    <tr>\n",
              "      <th>203</th>\n",
              "      <td>-1</td>\n",
              "      <td>95</td>\n",
              "      <td>volvo</td>\n",
              "      <td>diesel</td>\n",
              "      <td>turbo</td>\n",
              "      <td>four</td>\n",
              "      <td>sedan</td>\n",
              "      <td>rwd</td>\n",
              "      <td>front</td>\n",
              "      <td>109.1</td>\n",
              "      <td>...</td>\n",
              "      <td>145</td>\n",
              "      <td>idi</td>\n",
              "      <td>3.01</td>\n",
              "      <td>3.4</td>\n",
              "      <td>23.0</td>\n",
              "      <td>106</td>\n",
              "      <td>4800</td>\n",
              "      <td>26</td>\n",
              "      <td>27</td>\n",
              "      <td>22470</td>\n",
              "    </tr>\n",
              "    <tr>\n",
              "      <th>204</th>\n",
              "      <td>-1</td>\n",
              "      <td>95</td>\n",
              "      <td>volvo</td>\n",
              "      <td>gas</td>\n",
              "      <td>turbo</td>\n",
              "      <td>four</td>\n",
              "      <td>sedan</td>\n",
              "      <td>rwd</td>\n",
              "      <td>front</td>\n",
              "      <td>109.1</td>\n",
              "      <td>...</td>\n",
              "      <td>141</td>\n",
              "      <td>mpfi</td>\n",
              "      <td>3.78</td>\n",
              "      <td>3.15</td>\n",
              "      <td>9.5</td>\n",
              "      <td>114</td>\n",
              "      <td>5400</td>\n",
              "      <td>19</td>\n",
              "      <td>25</td>\n",
              "      <td>22625</td>\n",
              "    </tr>\n",
              "  </tbody>\n",
              "</table>\n",
              "<p>205 rows × 26 columns</p>\n",
              "</div>"
            ],
            "text/plain": [
              "     symboling normalized-losses         make fuel-type aspiration  \\\n",
              "0            3                 ?  alfa-romero       gas        std   \n",
              "1            3                 ?  alfa-romero       gas        std   \n",
              "2            1                 ?  alfa-romero       gas        std   \n",
              "3            2               164         audi       gas        std   \n",
              "4            2               164         audi       gas        std   \n",
              "..         ...               ...          ...       ...        ...   \n",
              "200         -1                95        volvo       gas        std   \n",
              "201         -1                95        volvo       gas      turbo   \n",
              "202         -1                95        volvo       gas        std   \n",
              "203         -1                95        volvo    diesel      turbo   \n",
              "204         -1                95        volvo       gas      turbo   \n",
              "\n",
              "    num-of-doors   body-style drive-wheels engine-location  wheel-base  ...  \\\n",
              "0            two  convertible          rwd           front        88.6  ...   \n",
              "1            two  convertible          rwd           front        88.6  ...   \n",
              "2            two    hatchback          rwd           front        94.5  ...   \n",
              "3           four        sedan          fwd           front        99.8  ...   \n",
              "4           four        sedan          4wd           front        99.4  ...   \n",
              "..           ...          ...          ...             ...         ...  ...   \n",
              "200         four        sedan          rwd           front       109.1  ...   \n",
              "201         four        sedan          rwd           front       109.1  ...   \n",
              "202         four        sedan          rwd           front       109.1  ...   \n",
              "203         four        sedan          rwd           front       109.1  ...   \n",
              "204         four        sedan          rwd           front       109.1  ...   \n",
              "\n",
              "     engine-size  fuel-system  bore  stroke compression-ratio horsepower  \\\n",
              "0            130         mpfi  3.47    2.68               9.0        111   \n",
              "1            130         mpfi  3.47    2.68               9.0        111   \n",
              "2            152         mpfi  2.68    3.47               9.0        154   \n",
              "3            109         mpfi  3.19     3.4              10.0        102   \n",
              "4            136         mpfi  3.19     3.4               8.0        115   \n",
              "..           ...          ...   ...     ...               ...        ...   \n",
              "200          141         mpfi  3.78    3.15               9.5        114   \n",
              "201          141         mpfi  3.78    3.15               8.7        160   \n",
              "202          173         mpfi  3.58    2.87               8.8        134   \n",
              "203          145          idi  3.01     3.4              23.0        106   \n",
              "204          141         mpfi  3.78    3.15               9.5        114   \n",
              "\n",
              "     peak-rpm city-mpg highway-mpg  price  \n",
              "0        5000       21          27  13495  \n",
              "1        5000       21          27  16500  \n",
              "2        5000       19          26  16500  \n",
              "3        5500       24          30  13950  \n",
              "4        5500       18          22  17450  \n",
              "..        ...      ...         ...    ...  \n",
              "200      5400       23          28  16845  \n",
              "201      5300       19          25  19045  \n",
              "202      5500       18          23  21485  \n",
              "203      4800       26          27  22470  \n",
              "204      5400       19          25  22625  \n",
              "\n",
              "[205 rows x 26 columns]"
            ]
          },
          "metadata": {},
          "output_type": "display_data"
        }
      ]
    },
    {
      "cell_type": "code",
      "metadata": {
        "id": "96bcc6fe",
        "colab": {
          "base_uri": "https://localhost:8080/",
          "height": 310
        },
        "outputId": "835095ec-4633-43f5-919e-75e1b86c133d"
      },
      "source": [
        "df.replace(\"?\", np.nan, inplace = True)\n",
        "df.head(5)"
      ],
      "id": "96bcc6fe",
      "execution_count": null,
      "outputs": [
        {
          "output_type": "execute_result",
          "data": {
            "text/html": [
              "<div>\n",
              "<style scoped>\n",
              "    .dataframe tbody tr th:only-of-type {\n",
              "        vertical-align: middle;\n",
              "    }\n",
              "\n",
              "    .dataframe tbody tr th {\n",
              "        vertical-align: top;\n",
              "    }\n",
              "\n",
              "    .dataframe thead th {\n",
              "        text-align: right;\n",
              "    }\n",
              "</style>\n",
              "<table border=\"1\" class=\"dataframe\">\n",
              "  <thead>\n",
              "    <tr style=\"text-align: right;\">\n",
              "      <th></th>\n",
              "      <th>symboling</th>\n",
              "      <th>normalized-losses</th>\n",
              "      <th>make</th>\n",
              "      <th>fuel-type</th>\n",
              "      <th>aspiration</th>\n",
              "      <th>num-of-doors</th>\n",
              "      <th>body-style</th>\n",
              "      <th>drive-wheels</th>\n",
              "      <th>engine-location</th>\n",
              "      <th>wheel-base</th>\n",
              "      <th>length</th>\n",
              "      <th>width</th>\n",
              "      <th>height</th>\n",
              "      <th>curb-weight</th>\n",
              "      <th>engine-type</th>\n",
              "      <th>num-of-cylinders</th>\n",
              "      <th>engine-size</th>\n",
              "      <th>fuel-system</th>\n",
              "      <th>bore</th>\n",
              "      <th>stroke</th>\n",
              "      <th>compression-ratio</th>\n",
              "      <th>horsepower</th>\n",
              "      <th>peak-rpm</th>\n",
              "      <th>city-mpg</th>\n",
              "      <th>highway-mpg</th>\n",
              "      <th>price</th>\n",
              "    </tr>\n",
              "  </thead>\n",
              "  <tbody>\n",
              "    <tr>\n",
              "      <th>0</th>\n",
              "      <td>3</td>\n",
              "      <td>NaN</td>\n",
              "      <td>alfa-romero</td>\n",
              "      <td>gas</td>\n",
              "      <td>std</td>\n",
              "      <td>two</td>\n",
              "      <td>convertible</td>\n",
              "      <td>rwd</td>\n",
              "      <td>front</td>\n",
              "      <td>88.6</td>\n",
              "      <td>168.8</td>\n",
              "      <td>64.1</td>\n",
              "      <td>48.8</td>\n",
              "      <td>2548</td>\n",
              "      <td>dohc</td>\n",
              "      <td>four</td>\n",
              "      <td>130</td>\n",
              "      <td>mpfi</td>\n",
              "      <td>3.47</td>\n",
              "      <td>2.68</td>\n",
              "      <td>9.0</td>\n",
              "      <td>111</td>\n",
              "      <td>5000</td>\n",
              "      <td>21</td>\n",
              "      <td>27</td>\n",
              "      <td>13495</td>\n",
              "    </tr>\n",
              "    <tr>\n",
              "      <th>1</th>\n",
              "      <td>3</td>\n",
              "      <td>NaN</td>\n",
              "      <td>alfa-romero</td>\n",
              "      <td>gas</td>\n",
              "      <td>std</td>\n",
              "      <td>two</td>\n",
              "      <td>convertible</td>\n",
              "      <td>rwd</td>\n",
              "      <td>front</td>\n",
              "      <td>88.6</td>\n",
              "      <td>168.8</td>\n",
              "      <td>64.1</td>\n",
              "      <td>48.8</td>\n",
              "      <td>2548</td>\n",
              "      <td>dohc</td>\n",
              "      <td>four</td>\n",
              "      <td>130</td>\n",
              "      <td>mpfi</td>\n",
              "      <td>3.47</td>\n",
              "      <td>2.68</td>\n",
              "      <td>9.0</td>\n",
              "      <td>111</td>\n",
              "      <td>5000</td>\n",
              "      <td>21</td>\n",
              "      <td>27</td>\n",
              "      <td>16500</td>\n",
              "    </tr>\n",
              "    <tr>\n",
              "      <th>2</th>\n",
              "      <td>1</td>\n",
              "      <td>NaN</td>\n",
              "      <td>alfa-romero</td>\n",
              "      <td>gas</td>\n",
              "      <td>std</td>\n",
              "      <td>two</td>\n",
              "      <td>hatchback</td>\n",
              "      <td>rwd</td>\n",
              "      <td>front</td>\n",
              "      <td>94.5</td>\n",
              "      <td>171.2</td>\n",
              "      <td>65.5</td>\n",
              "      <td>52.4</td>\n",
              "      <td>2823</td>\n",
              "      <td>ohcv</td>\n",
              "      <td>six</td>\n",
              "      <td>152</td>\n",
              "      <td>mpfi</td>\n",
              "      <td>2.68</td>\n",
              "      <td>3.47</td>\n",
              "      <td>9.0</td>\n",
              "      <td>154</td>\n",
              "      <td>5000</td>\n",
              "      <td>19</td>\n",
              "      <td>26</td>\n",
              "      <td>16500</td>\n",
              "    </tr>\n",
              "    <tr>\n",
              "      <th>3</th>\n",
              "      <td>2</td>\n",
              "      <td>164</td>\n",
              "      <td>audi</td>\n",
              "      <td>gas</td>\n",
              "      <td>std</td>\n",
              "      <td>four</td>\n",
              "      <td>sedan</td>\n",
              "      <td>fwd</td>\n",
              "      <td>front</td>\n",
              "      <td>99.8</td>\n",
              "      <td>176.6</td>\n",
              "      <td>66.2</td>\n",
              "      <td>54.3</td>\n",
              "      <td>2337</td>\n",
              "      <td>ohc</td>\n",
              "      <td>four</td>\n",
              "      <td>109</td>\n",
              "      <td>mpfi</td>\n",
              "      <td>3.19</td>\n",
              "      <td>3.4</td>\n",
              "      <td>10.0</td>\n",
              "      <td>102</td>\n",
              "      <td>5500</td>\n",
              "      <td>24</td>\n",
              "      <td>30</td>\n",
              "      <td>13950</td>\n",
              "    </tr>\n",
              "    <tr>\n",
              "      <th>4</th>\n",
              "      <td>2</td>\n",
              "      <td>164</td>\n",
              "      <td>audi</td>\n",
              "      <td>gas</td>\n",
              "      <td>std</td>\n",
              "      <td>four</td>\n",
              "      <td>sedan</td>\n",
              "      <td>4wd</td>\n",
              "      <td>front</td>\n",
              "      <td>99.4</td>\n",
              "      <td>176.6</td>\n",
              "      <td>66.4</td>\n",
              "      <td>54.3</td>\n",
              "      <td>2824</td>\n",
              "      <td>ohc</td>\n",
              "      <td>five</td>\n",
              "      <td>136</td>\n",
              "      <td>mpfi</td>\n",
              "      <td>3.19</td>\n",
              "      <td>3.4</td>\n",
              "      <td>8.0</td>\n",
              "      <td>115</td>\n",
              "      <td>5500</td>\n",
              "      <td>18</td>\n",
              "      <td>22</td>\n",
              "      <td>17450</td>\n",
              "    </tr>\n",
              "  </tbody>\n",
              "</table>\n",
              "</div>"
            ],
            "text/plain": [
              "   symboling normalized-losses         make  ... city-mpg highway-mpg  price\n",
              "0          3               NaN  alfa-romero  ...       21          27  13495\n",
              "1          3               NaN  alfa-romero  ...       21          27  16500\n",
              "2          1               NaN  alfa-romero  ...       19          26  16500\n",
              "3          2               164         audi  ...       24          30  13950\n",
              "4          2               164         audi  ...       18          22  17450\n",
              "\n",
              "[5 rows x 26 columns]"
            ]
          },
          "metadata": {},
          "execution_count": 6
        }
      ]
    },
    {
      "cell_type": "markdown",
      "metadata": {
        "id": "cb45f1d9"
      },
      "source": [
        "##### \n",
        "Each column has 205 rows of data and 7 columns containing missing data:\n",
        "\n",
        "\"normalized-losses\": 41 missing data\n",
        "\"num-of-doors\": 2 missing data\n",
        "\"bore\": 4 missing data\n",
        "\"stroke\" : 4 missing data\n",
        "\"horsepower\": 2 missing data\n",
        "\"peak-rpm\": 2 missing data\n",
        "\"price\": 4 missing data"
      ],
      "id": "cb45f1d9"
    },
    {
      "cell_type": "code",
      "metadata": {
        "id": "f9723655",
        "colab": {
          "base_uri": "https://localhost:8080/"
        },
        "outputId": "39b1e8cc-4f10-454f-d805-139b9e8c6985"
      },
      "source": [
        "df.isna().sum()"
      ],
      "id": "f9723655",
      "execution_count": null,
      "outputs": [
        {
          "output_type": "execute_result",
          "data": {
            "text/plain": [
              "symboling             0\n",
              "normalized-losses    41\n",
              "make                  0\n",
              "fuel-type             0\n",
              "aspiration            0\n",
              "num-of-doors          2\n",
              "body-style            0\n",
              "drive-wheels          0\n",
              "engine-location       0\n",
              "wheel-base            0\n",
              "length                0\n",
              "width                 0\n",
              "height                0\n",
              "curb-weight           0\n",
              "engine-type           0\n",
              "num-of-cylinders      0\n",
              "engine-size           0\n",
              "fuel-system           0\n",
              "bore                  4\n",
              "stroke                4\n",
              "compression-ratio     0\n",
              "horsepower            2\n",
              "peak-rpm              2\n",
              "city-mpg              0\n",
              "highway-mpg           0\n",
              "price                 4\n",
              "dtype: int64"
            ]
          },
          "metadata": {},
          "execution_count": 7
        }
      ]
    },
    {
      "cell_type": "markdown",
      "metadata": {
        "id": "7b3cebb5"
      },
      "source": [
        "##### Replace \"NaN\" by mean value in that particular column"
      ],
      "id": "7b3cebb5"
    },
    {
      "cell_type": "code",
      "metadata": {
        "id": "c6daeff4",
        "colab": {
          "base_uri": "https://localhost:8080/"
        },
        "outputId": "a8cfde07-6d7a-4478-8edf-a33a455ef2cc"
      },
      "source": [
        "avg_norm_loss = df[\"normalized-losses\"].astype(\"float\").mean(axis=0)\n",
        "print(\"Average of normalized-losses:\", avg_norm_loss)\n",
        "\n",
        "df[\"normalized-losses\"].replace(np.nan,avg_norm_loss,inplace=True)"
      ],
      "id": "c6daeff4",
      "execution_count": null,
      "outputs": [
        {
          "output_type": "stream",
          "name": "stdout",
          "text": [
            "Average of normalized-losses: 122.0\n"
          ]
        }
      ]
    },
    {
      "cell_type": "code",
      "metadata": {
        "id": "78f01718",
        "colab": {
          "base_uri": "https://localhost:8080/"
        },
        "outputId": "4fd98c96-5dae-48da-a0dc-bbbdc2fcf4cb"
      },
      "source": [
        "avg_bore = df[\"bore\"].astype(\"float\").mean(axis=0)\n",
        "print(\"Average of Bore Values:\",avg_bore)\n",
        "\n",
        "df[\"bore\"].replace(np.nan,avg_bore,inplace=True)"
      ],
      "id": "78f01718",
      "execution_count": null,
      "outputs": [
        {
          "output_type": "stream",
          "name": "stdout",
          "text": [
            "Average of Bore Values: 3.3297512437810957\n"
          ]
        }
      ]
    },
    {
      "cell_type": "code",
      "metadata": {
        "id": "85c6024d",
        "colab": {
          "base_uri": "https://localhost:8080/"
        },
        "outputId": "9b4bd2cc-b2e0-4a47-e92f-5da738b63cea"
      },
      "source": [
        "avg_peakrpm=df['peak-rpm'].astype('float').mean(axis=0)\n",
        "print(\"Average peak rpm:\", avg_peakrpm)\n",
        "\n",
        "df['peak-rpm'].replace(np.nan, avg_peakrpm, inplace=True)"
      ],
      "id": "85c6024d",
      "execution_count": null,
      "outputs": [
        {
          "output_type": "stream",
          "name": "stdout",
          "text": [
            "Average peak rpm: 5125.369458128079\n"
          ]
        }
      ]
    },
    {
      "cell_type": "code",
      "metadata": {
        "id": "b7e9671a",
        "colab": {
          "base_uri": "https://localhost:8080/"
        },
        "outputId": "0981e154-14b3-410e-a2e6-9a056c4c451f"
      },
      "source": [
        "avg_stroke = df[\"stroke\"].astype(\"float\").mean(axis=0)\n",
        "print(\"Average of Stroke Values:\",avg_bore)\n",
        "\n",
        "df[\"stroke\"].replace(np.nan,avg_stroke,inplace = True)"
      ],
      "id": "b7e9671a",
      "execution_count": null,
      "outputs": [
        {
          "output_type": "stream",
          "name": "stdout",
          "text": [
            "Average of Stroke Values: 3.3297512437810957\n"
          ]
        }
      ]
    },
    {
      "cell_type": "code",
      "metadata": {
        "id": "8274c099",
        "colab": {
          "base_uri": "https://localhost:8080/"
        },
        "outputId": "1a2d5cb3-7a76-4839-87e3-951b90b064de"
      },
      "source": [
        "avg_horsepower = df['horsepower'].astype(\"float\").mean(axis=0)\n",
        "print(\"Average horsepower:\", avg_horsepower)\n",
        "\n",
        "df['horsepower'].replace(np.nan, avg_horsepower, inplace=True)"
      ],
      "id": "8274c099",
      "execution_count": null,
      "outputs": [
        {
          "output_type": "stream",
          "name": "stdout",
          "text": [
            "Average horsepower: 104.25615763546799\n"
          ]
        }
      ]
    },
    {
      "cell_type": "code",
      "metadata": {
        "id": "693ab7df",
        "colab": {
          "base_uri": "https://localhost:8080/",
          "height": 35
        },
        "outputId": "4384be8b-7ccf-4e8c-9a2e-7ad19040d991"
      },
      "source": [
        "df['num-of-doors'].value_counts().idxmax()"
      ],
      "id": "693ab7df",
      "execution_count": null,
      "outputs": [
        {
          "output_type": "execute_result",
          "data": {
            "application/vnd.google.colaboratory.intrinsic+json": {
              "type": "string"
            },
            "text/plain": [
              "'four'"
            ]
          },
          "metadata": {},
          "execution_count": 13
        }
      ]
    },
    {
      "cell_type": "code",
      "metadata": {
        "id": "a0b9ad52"
      },
      "source": [
        "#replace the missing 'num-of-doors' values by the most frequent \n",
        "df['num-of-doors'].replace(np.nan,\"four\",inplace=True)"
      ],
      "id": "a0b9ad52",
      "execution_count": null,
      "outputs": []
    },
    {
      "cell_type": "markdown",
      "metadata": {
        "id": "83b53821"
      },
      "source": [
        "##### Finally, we dropped all rows that do not have price data:"
      ],
      "id": "83b53821"
    },
    {
      "cell_type": "code",
      "metadata": {
        "id": "5f4ce15d"
      },
      "source": [
        "# simply drop whole row with NaN in \"price\" column\n",
        "df.dropna(subset=[\"price\"],axis=0,inplace=True)\n",
        "\n",
        "# reset index, because we droped two rows\n",
        "df.reset_index(drop=True,inplace=True)"
      ],
      "id": "5f4ce15d",
      "execution_count": null,
      "outputs": []
    },
    {
      "cell_type": "code",
      "metadata": {
        "id": "49a3d894",
        "outputId": "cbc84006-ac67-4b45-8a3e-d36bbe75ae8c"
      },
      "source": [
        "df.head()"
      ],
      "id": "49a3d894",
      "execution_count": null,
      "outputs": [
        {
          "data": {
            "text/html": [
              "<div>\n",
              "<style scoped>\n",
              "    .dataframe tbody tr th:only-of-type {\n",
              "        vertical-align: middle;\n",
              "    }\n",
              "\n",
              "    .dataframe tbody tr th {\n",
              "        vertical-align: top;\n",
              "    }\n",
              "\n",
              "    .dataframe thead th {\n",
              "        text-align: right;\n",
              "    }\n",
              "</style>\n",
              "<table border=\"1\" class=\"dataframe\">\n",
              "  <thead>\n",
              "    <tr style=\"text-align: right;\">\n",
              "      <th></th>\n",
              "      <th>symboling</th>\n",
              "      <th>normalized-losses</th>\n",
              "      <th>make</th>\n",
              "      <th>fuel-type</th>\n",
              "      <th>aspiration</th>\n",
              "      <th>num-of-doors</th>\n",
              "      <th>body-style</th>\n",
              "      <th>drive-wheels</th>\n",
              "      <th>engine-location</th>\n",
              "      <th>wheel-base</th>\n",
              "      <th>...</th>\n",
              "      <th>engine-size</th>\n",
              "      <th>fuel-system</th>\n",
              "      <th>bore</th>\n",
              "      <th>stroke</th>\n",
              "      <th>compression-ratio</th>\n",
              "      <th>horsepower</th>\n",
              "      <th>peak-rpm</th>\n",
              "      <th>city-mpg</th>\n",
              "      <th>highway-mpg</th>\n",
              "      <th>price</th>\n",
              "    </tr>\n",
              "  </thead>\n",
              "  <tbody>\n",
              "    <tr>\n",
              "      <th>0</th>\n",
              "      <td>3</td>\n",
              "      <td>122.0</td>\n",
              "      <td>alfa-romero</td>\n",
              "      <td>gas</td>\n",
              "      <td>std</td>\n",
              "      <td>two</td>\n",
              "      <td>convertible</td>\n",
              "      <td>rwd</td>\n",
              "      <td>front</td>\n",
              "      <td>88.6</td>\n",
              "      <td>...</td>\n",
              "      <td>130</td>\n",
              "      <td>mpfi</td>\n",
              "      <td>3.47</td>\n",
              "      <td>2.68</td>\n",
              "      <td>9.0</td>\n",
              "      <td>111</td>\n",
              "      <td>5000</td>\n",
              "      <td>21</td>\n",
              "      <td>27</td>\n",
              "      <td>13495</td>\n",
              "    </tr>\n",
              "    <tr>\n",
              "      <th>1</th>\n",
              "      <td>3</td>\n",
              "      <td>122.0</td>\n",
              "      <td>alfa-romero</td>\n",
              "      <td>gas</td>\n",
              "      <td>std</td>\n",
              "      <td>two</td>\n",
              "      <td>convertible</td>\n",
              "      <td>rwd</td>\n",
              "      <td>front</td>\n",
              "      <td>88.6</td>\n",
              "      <td>...</td>\n",
              "      <td>130</td>\n",
              "      <td>mpfi</td>\n",
              "      <td>3.47</td>\n",
              "      <td>2.68</td>\n",
              "      <td>9.0</td>\n",
              "      <td>111</td>\n",
              "      <td>5000</td>\n",
              "      <td>21</td>\n",
              "      <td>27</td>\n",
              "      <td>16500</td>\n",
              "    </tr>\n",
              "    <tr>\n",
              "      <th>2</th>\n",
              "      <td>1</td>\n",
              "      <td>122.0</td>\n",
              "      <td>alfa-romero</td>\n",
              "      <td>gas</td>\n",
              "      <td>std</td>\n",
              "      <td>two</td>\n",
              "      <td>hatchback</td>\n",
              "      <td>rwd</td>\n",
              "      <td>front</td>\n",
              "      <td>94.5</td>\n",
              "      <td>...</td>\n",
              "      <td>152</td>\n",
              "      <td>mpfi</td>\n",
              "      <td>2.68</td>\n",
              "      <td>3.47</td>\n",
              "      <td>9.0</td>\n",
              "      <td>154</td>\n",
              "      <td>5000</td>\n",
              "      <td>19</td>\n",
              "      <td>26</td>\n",
              "      <td>16500</td>\n",
              "    </tr>\n",
              "    <tr>\n",
              "      <th>3</th>\n",
              "      <td>2</td>\n",
              "      <td>164</td>\n",
              "      <td>audi</td>\n",
              "      <td>gas</td>\n",
              "      <td>std</td>\n",
              "      <td>four</td>\n",
              "      <td>sedan</td>\n",
              "      <td>fwd</td>\n",
              "      <td>front</td>\n",
              "      <td>99.8</td>\n",
              "      <td>...</td>\n",
              "      <td>109</td>\n",
              "      <td>mpfi</td>\n",
              "      <td>3.19</td>\n",
              "      <td>3.4</td>\n",
              "      <td>10.0</td>\n",
              "      <td>102</td>\n",
              "      <td>5500</td>\n",
              "      <td>24</td>\n",
              "      <td>30</td>\n",
              "      <td>13950</td>\n",
              "    </tr>\n",
              "    <tr>\n",
              "      <th>4</th>\n",
              "      <td>2</td>\n",
              "      <td>164</td>\n",
              "      <td>audi</td>\n",
              "      <td>gas</td>\n",
              "      <td>std</td>\n",
              "      <td>four</td>\n",
              "      <td>sedan</td>\n",
              "      <td>4wd</td>\n",
              "      <td>front</td>\n",
              "      <td>99.4</td>\n",
              "      <td>...</td>\n",
              "      <td>136</td>\n",
              "      <td>mpfi</td>\n",
              "      <td>3.19</td>\n",
              "      <td>3.4</td>\n",
              "      <td>8.0</td>\n",
              "      <td>115</td>\n",
              "      <td>5500</td>\n",
              "      <td>18</td>\n",
              "      <td>22</td>\n",
              "      <td>17450</td>\n",
              "    </tr>\n",
              "  </tbody>\n",
              "</table>\n",
              "<p>5 rows × 26 columns</p>\n",
              "</div>"
            ],
            "text/plain": [
              "   symboling normalized-losses         make fuel-type aspiration num-of-doors  \\\n",
              "0          3             122.0  alfa-romero       gas        std          two   \n",
              "1          3             122.0  alfa-romero       gas        std          two   \n",
              "2          1             122.0  alfa-romero       gas        std          two   \n",
              "3          2               164         audi       gas        std         four   \n",
              "4          2               164         audi       gas        std         four   \n",
              "\n",
              "    body-style drive-wheels engine-location  wheel-base  ...  engine-size  \\\n",
              "0  convertible          rwd           front        88.6  ...          130   \n",
              "1  convertible          rwd           front        88.6  ...          130   \n",
              "2    hatchback          rwd           front        94.5  ...          152   \n",
              "3        sedan          fwd           front        99.8  ...          109   \n",
              "4        sedan          4wd           front        99.4  ...          136   \n",
              "\n",
              "   fuel-system  bore  stroke compression-ratio horsepower  peak-rpm city-mpg  \\\n",
              "0         mpfi  3.47    2.68               9.0        111      5000       21   \n",
              "1         mpfi  3.47    2.68               9.0        111      5000       21   \n",
              "2         mpfi  2.68    3.47               9.0        154      5000       19   \n",
              "3         mpfi  3.19     3.4              10.0        102      5500       24   \n",
              "4         mpfi  3.19     3.4               8.0        115      5500       18   \n",
              "\n",
              "  highway-mpg  price  \n",
              "0          27  13495  \n",
              "1          27  16500  \n",
              "2          26  16500  \n",
              "3          30  13950  \n",
              "4          22  17450  \n",
              "\n",
              "[5 rows x 26 columns]"
            ]
          },
          "execution_count": 64,
          "metadata": {},
          "output_type": "execute_result"
        }
      ]
    },
    {
      "cell_type": "markdown",
      "metadata": {
        "id": "21712d93"
      },
      "source": [
        "***Some columns have the wrong data type. Numerical variables should be float or int, and string variables like categories should be object. For example, the variables 'bore' and'stroke' should be of type 'float' or 'int', but they are of type 'object'. Using the \"astype()\" technique, we must format each column's data type***"
      ],
      "id": "21712d93"
    },
    {
      "cell_type": "code",
      "metadata": {
        "id": "117e4f73",
        "colab": {
          "base_uri": "https://localhost:8080/"
        },
        "outputId": "808fecec-cad1-45f2-d819-28e20451d5d0"
      },
      "source": [
        "df.dtypes"
      ],
      "id": "117e4f73",
      "execution_count": null,
      "outputs": [
        {
          "output_type": "execute_result",
          "data": {
            "text/plain": [
              "symboling              int64\n",
              "normalized-losses     object\n",
              "make                  object\n",
              "fuel-type             object\n",
              "aspiration            object\n",
              "num-of-doors          object\n",
              "body-style            object\n",
              "drive-wheels          object\n",
              "engine-location       object\n",
              "wheel-base           float64\n",
              "length               float64\n",
              "width                float64\n",
              "height               float64\n",
              "curb-weight            int64\n",
              "engine-type           object\n",
              "num-of-cylinders      object\n",
              "engine-size            int64\n",
              "fuel-system           object\n",
              "bore                  object\n",
              "stroke                object\n",
              "compression-ratio    float64\n",
              "horsepower            object\n",
              "peak-rpm              object\n",
              "city-mpg               int64\n",
              "highway-mpg            int64\n",
              "price                 object\n",
              "dtype: object"
            ]
          },
          "metadata": {},
          "execution_count": 16
        }
      ]
    },
    {
      "cell_type": "markdown",
      "metadata": {
        "id": "4458bcfa"
      },
      "source": [
        "##### Convert data types to proper format"
      ],
      "id": "4458bcfa"
    },
    {
      "cell_type": "code",
      "metadata": {
        "id": "2868eef4"
      },
      "source": [
        "df[[\"bore\", \"stroke\"]] = df[[\"bore\", \"stroke\"]].astype(\"float\")\n",
        "df[[\"normalized-losses\"]] = df[[\"normalized-losses\"]].astype(\"int\")\n",
        "df[[\"price\"]] = df[[\"price\"]].astype(\"float\")\n",
        "df[[\"peak-rpm\"]] = df[[\"peak-rpm\"]].astype(\"float\")\n",
        "df[[\"horsepower\"]] = df[[\"horsepower\"]].astype(\"float\")"
      ],
      "id": "2868eef4",
      "execution_count": null,
      "outputs": []
    },
    {
      "cell_type": "code",
      "metadata": {
        "id": "be9a4cbc",
        "colab": {
          "base_uri": "https://localhost:8080/",
          "height": 297
        },
        "outputId": "78e7fb94-17a9-4067-bdc1-b6be739fff80"
      },
      "source": [
        "sns.boxplot(x=\"body-style\", y=\"price\", data=df)"
      ],
      "id": "be9a4cbc",
      "execution_count": null,
      "outputs": [
        {
          "output_type": "execute_result",
          "data": {
            "text/plain": [
              "<matplotlib.axes._subplots.AxesSubplot at 0x7f59aa460f50>"
            ]
          },
          "metadata": {},
          "execution_count": 18
        },
        {
          "output_type": "display_data",
          "data": {
            "image/png": "[encoded data removed]",
            "text/plain": [
              "<Figure size 432x288 with 1 Axes>"
            ]
          },
          "metadata": {
            "needs_background": "light"
          }
        }
      ]
    },
    {
      "cell_type": "code",
      "metadata": {
        "id": "6d759bc2",
        "colab": {
          "base_uri": "https://localhost:8080/",
          "height": 297
        },
        "outputId": "dcdc977a-5b4a-42be-c55c-642137128964"
      },
      "source": [
        "sns.boxplot(x=\"drive-wheels\", y=\"price\", data=df)"
      ],
      "id": "6d759bc2",
      "execution_count": null,
      "outputs": [
        {
          "output_type": "execute_result",
          "data": {
            "text/plain": [
              "<matplotlib.axes._subplots.AxesSubplot at 0x7f59a9323050>"
            ]
          },
          "metadata": {},
          "execution_count": 19
        },
        {
          "output_type": "display_data",
          "data": {
            "image/png": "[encoded data removed]",
            "text/plain": [
              "<Figure size 432x288 with 1 Axes>"
            ]
          },
          "metadata": {
            "needs_background": "light"
          }
        }
      ]
    },
    {
      "cell_type": "code",
      "metadata": {
        "id": "14e6d723",
        "colab": {
          "base_uri": "https://localhost:8080/",
          "height": 297
        },
        "outputId": "3351b271-8382-40fe-b05e-ad9badb2fa07"
      },
      "source": [
        "sns.boxplot(x=\"engine-location\", y=\"price\", data=df)"
      ],
      "id": "14e6d723",
      "execution_count": null,
      "outputs": [
        {
          "output_type": "execute_result",
          "data": {
            "text/plain": [
              "<matplotlib.axes._subplots.AxesSubplot at 0x7f59a8e0c090>"
            ]
          },
          "metadata": {},
          "execution_count": 20
        },
        {
          "output_type": "display_data",
          "data": {
            "image/png": "[encoded data removed]",
            "text/plain": [
              "<Figure size 432x288 with 1 Axes>"
            ]
          },
          "metadata": {
            "needs_background": "light"
          }
        }
      ]
    },
    {
      "cell_type": "code",
      "metadata": {
        "id": "bd495f4a",
        "colab": {
          "base_uri": "https://localhost:8080/"
        },
        "outputId": "b6883198-cff3-4e87-a571-9824ef198169"
      },
      "source": [
        "print(df.dtypes)"
      ],
      "id": "bd495f4a",
      "execution_count": null,
      "outputs": [
        {
          "output_type": "stream",
          "name": "stdout",
          "text": [
            "symboling              int64\n",
            "normalized-losses      int64\n",
            "make                  object\n",
            "fuel-type             object\n",
            "aspiration            object\n",
            "num-of-doors          object\n",
            "body-style            object\n",
            "drive-wheels          object\n",
            "engine-location       object\n",
            "wheel-base           float64\n",
            "length               float64\n",
            "width                float64\n",
            "height               float64\n",
            "curb-weight            int64\n",
            "engine-type           object\n",
            "num-of-cylinders      object\n",
            "engine-size            int64\n",
            "fuel-system           object\n",
            "bore                 float64\n",
            "stroke               float64\n",
            "compression-ratio    float64\n",
            "horsepower            object\n",
            "peak-rpm             float64\n",
            "city-mpg               int64\n",
            "highway-mpg            int64\n",
            "price                float64\n",
            "dtype: object\n"
          ]
        }
      ]
    },
    {
      "cell_type": "markdown",
      "metadata": {
        "id": "3b3f552e"
      },
      "source": [
        "##### Regression plots, to check the how the other parameters afffect the price of the vehicle"
      ],
      "id": "3b3f552e"
    },
    {
      "cell_type": "code",
      "metadata": {
        "id": "b8ddcfc2",
        "colab": {
          "base_uri": "https://localhost:8080/",
          "height": 629
        },
        "outputId": "3596d615-825c-4db8-bd8e-ab5d2ea46d26"
      },
      "source": [
        "import matplotlib.pyplot as plt\n",
        "import seaborn as sns\n",
        "\n",
        "#set seaborn plotting aesthetics as default\n",
        "sns.set()\n",
        "\n",
        "#define plotting region (2 rows, 2 columns)\n",
        "fig, axes = plt.subplots(2, 2, figsize = (15,10))\n",
        "\n",
        "#create boxplot in each subplot\n",
        "sns.regplot(data=df, x='price', y='engine-size', ax=axes[0,0], )\n",
        "sns.regplot(data=df, x='price', y='highway-mpg', ax=axes[0,1])\n",
        "sns.regplot(data=df, x='price', y='compression-ratio', ax=axes[1,0])\n",
        "sns.regplot(data=df, x='price', y='wheel-base', ax=axes[1,1])"
      ],
      "id": "b8ddcfc2",
      "execution_count": null,
      "outputs": [
        {
          "output_type": "execute_result",
          "data": {
            "text/plain": [
              "<matplotlib.axes._subplots.AxesSubplot at 0x7f59a8d12d10>"
            ]
          },
          "metadata": {},
          "execution_count": 22
        },
        {
          "output_type": "display_data",
          "data": {
            "image/png": "[encoded data removed]",
            "text/plain": [
              "<Figure size 1080x720 with 4 Axes>"
            ]
          },
          "metadata": {}
        }
      ]
    },
    {
      "cell_type": "code",
      "metadata": {
        "id": "a5f73d2e"
      },
      "source": [
        ""
      ],
      "id": "a5f73d2e",
      "execution_count": null,
      "outputs": []
    },
    {
      "cell_type": "code",
      "metadata": {
        "id": "fcadbce4",
        "outputId": "4d679e12-1fbe-4cce-d764-c88dc32eac6b"
      },
      "source": [
        "print(df['fuel-type'].unique())\n",
        "print(df['aspiration'].unique())\n",
        "print(df['drive-wheels'].unique())\n",
        "print(df['engine-location'].unique())\n",
        "print(df['engine-type'].unique())\n",
        "print(df['num-of-cylinders'].unique())\n",
        "print(df['make'].unique())"
      ],
      "id": "fcadbce4",
      "execution_count": null,
      "outputs": [
        {
          "name": "stdout",
          "output_type": "stream",
          "text": [
            "['gas' 'diesel']\n",
            "['std' 'turbo']\n",
            "['rwd' 'fwd' '4wd']\n",
            "['front' 'rear']\n",
            "['dohc' 'ohcv' 'ohc' 'l' 'rotor' 'ohcf']\n",
            "['four' 'six' 'five' 'three' 'twelve' 'two' 'eight']\n",
            "['alfa-romero' 'audi' 'bmw' 'chevrolet' 'dodge' 'honda' 'isuzu' 'jaguar'\n",
            " 'mazda' 'mercedes-benz' 'mercury' 'mitsubishi' 'nissan' 'peugot'\n",
            " 'plymouth' 'porsche' 'renault' 'saab' 'subaru' 'toyota' 'volkswagen'\n",
            " 'volvo']\n"
          ]
        }
      ]
    },
    {
      "cell_type": "markdown",
      "metadata": {
        "id": "306a60eb"
      },
      "source": [
        "##### Mapping variables from string to intergers so that we use in our price prediction.\n"
      ],
      "id": "306a60eb"
    },
    {
      "cell_type": "code",
      "metadata": {
        "id": "225718d4"
      },
      "source": [
        "#listing the variables to map\n",
        "varlist = ['fuel-type', 'aspiration','drive-wheels','engine-location', 'engine-type', 'num-of-cylinders','make']\n",
        "#defining maping fuction\n",
        "def binary_map(x):\n",
        "  return x.map({'gas':1, 'diesel':2, 'std':1, 'turbo':2, 'rwd':1, 'fwd':2, '4wd':3,\n",
        "                'front':1, 'rear':2, 'dohc':1, 'ohcv':2, 'l':3,'rotor':4, 'ohcf':5,'dohcv':6,\n",
        "                'four':4,'six':6, 'five':5,'three':3, 'twelve':12, 'two':2, 'eight':8, \n",
        "                'alfa-romero':1, 'audi':2, 'bmw':3,'chevrolet':4,'dodge':5,'honda':6, 'isuzu':7, 'jaguar':8,\n",
        "                'mazda':9, 'mercedes-benz':10, 'mercury':11, 'mitsubishi':12, 'nissan':13, 'peugot':14,\n",
        "                 'plymouth':15, 'porsche':16, 'renault':17, 'saab':18, 'subaru':19, 'toyota':20, 'volkswagen':21,\n",
        "                 'volvo':22 })\n",
        "# Applying the function to the housing list\n",
        "df[varlist] = df[varlist].apply(binary_map)"
      ],
      "id": "225718d4",
      "execution_count": null,
      "outputs": []
    },
    {
      "cell_type": "code",
      "metadata": {
        "id": "2b8cd2b2",
        "outputId": "df5ce7f8-4570-4ce1-edab-e2216b6e818d"
      },
      "source": [
        "df.head()"
      ],
      "id": "2b8cd2b2",
      "execution_count": null,
      "outputs": [
        {
          "data": {
            "text/html": [
              "<div>\n",
              "<style scoped>\n",
              "    .dataframe tbody tr th:only-of-type {\n",
              "        vertical-align: middle;\n",
              "    }\n",
              "\n",
              "    .dataframe tbody tr th {\n",
              "        vertical-align: top;\n",
              "    }\n",
              "\n",
              "    .dataframe thead th {\n",
              "        text-align: right;\n",
              "    }\n",
              "</style>\n",
              "<table border=\"1\" class=\"dataframe\">\n",
              "  <thead>\n",
              "    <tr style=\"text-align: right;\">\n",
              "      <th></th>\n",
              "      <th>symboling</th>\n",
              "      <th>normalized-losses</th>\n",
              "      <th>make</th>\n",
              "      <th>fuel-type</th>\n",
              "      <th>aspiration</th>\n",
              "      <th>num-of-doors</th>\n",
              "      <th>body-style</th>\n",
              "      <th>drive-wheels</th>\n",
              "      <th>engine-location</th>\n",
              "      <th>wheel-base</th>\n",
              "      <th>...</th>\n",
              "      <th>engine-size</th>\n",
              "      <th>fuel-system</th>\n",
              "      <th>bore</th>\n",
              "      <th>stroke</th>\n",
              "      <th>compression-ratio</th>\n",
              "      <th>horsepower</th>\n",
              "      <th>peak-rpm</th>\n",
              "      <th>city-mpg</th>\n",
              "      <th>highway-mpg</th>\n",
              "      <th>price</th>\n",
              "    </tr>\n",
              "  </thead>\n",
              "  <tbody>\n",
              "    <tr>\n",
              "      <th>0</th>\n",
              "      <td>3</td>\n",
              "      <td>122</td>\n",
              "      <td>1</td>\n",
              "      <td>1</td>\n",
              "      <td>1</td>\n",
              "      <td>two</td>\n",
              "      <td>convertible</td>\n",
              "      <td>1</td>\n",
              "      <td>1</td>\n",
              "      <td>88.6</td>\n",
              "      <td>...</td>\n",
              "      <td>130</td>\n",
              "      <td>mpfi</td>\n",
              "      <td>3.47</td>\n",
              "      <td>2.68</td>\n",
              "      <td>9.0</td>\n",
              "      <td>111</td>\n",
              "      <td>5000.0</td>\n",
              "      <td>21</td>\n",
              "      <td>27</td>\n",
              "      <td>13495.0</td>\n",
              "    </tr>\n",
              "    <tr>\n",
              "      <th>1</th>\n",
              "      <td>3</td>\n",
              "      <td>122</td>\n",
              "      <td>1</td>\n",
              "      <td>1</td>\n",
              "      <td>1</td>\n",
              "      <td>two</td>\n",
              "      <td>convertible</td>\n",
              "      <td>1</td>\n",
              "      <td>1</td>\n",
              "      <td>88.6</td>\n",
              "      <td>...</td>\n",
              "      <td>130</td>\n",
              "      <td>mpfi</td>\n",
              "      <td>3.47</td>\n",
              "      <td>2.68</td>\n",
              "      <td>9.0</td>\n",
              "      <td>111</td>\n",
              "      <td>5000.0</td>\n",
              "      <td>21</td>\n",
              "      <td>27</td>\n",
              "      <td>16500.0</td>\n",
              "    </tr>\n",
              "    <tr>\n",
              "      <th>2</th>\n",
              "      <td>1</td>\n",
              "      <td>122</td>\n",
              "      <td>1</td>\n",
              "      <td>1</td>\n",
              "      <td>1</td>\n",
              "      <td>two</td>\n",
              "      <td>hatchback</td>\n",
              "      <td>1</td>\n",
              "      <td>1</td>\n",
              "      <td>94.5</td>\n",
              "      <td>...</td>\n",
              "      <td>152</td>\n",
              "      <td>mpfi</td>\n",
              "      <td>2.68</td>\n",
              "      <td>3.47</td>\n",
              "      <td>9.0</td>\n",
              "      <td>154</td>\n",
              "      <td>5000.0</td>\n",
              "      <td>19</td>\n",
              "      <td>26</td>\n",
              "      <td>16500.0</td>\n",
              "    </tr>\n",
              "    <tr>\n",
              "      <th>3</th>\n",
              "      <td>2</td>\n",
              "      <td>164</td>\n",
              "      <td>2</td>\n",
              "      <td>1</td>\n",
              "      <td>1</td>\n",
              "      <td>four</td>\n",
              "      <td>sedan</td>\n",
              "      <td>2</td>\n",
              "      <td>1</td>\n",
              "      <td>99.8</td>\n",
              "      <td>...</td>\n",
              "      <td>109</td>\n",
              "      <td>mpfi</td>\n",
              "      <td>3.19</td>\n",
              "      <td>3.40</td>\n",
              "      <td>10.0</td>\n",
              "      <td>102</td>\n",
              "      <td>5500.0</td>\n",
              "      <td>24</td>\n",
              "      <td>30</td>\n",
              "      <td>13950.0</td>\n",
              "    </tr>\n",
              "    <tr>\n",
              "      <th>4</th>\n",
              "      <td>2</td>\n",
              "      <td>164</td>\n",
              "      <td>2</td>\n",
              "      <td>1</td>\n",
              "      <td>1</td>\n",
              "      <td>four</td>\n",
              "      <td>sedan</td>\n",
              "      <td>3</td>\n",
              "      <td>1</td>\n",
              "      <td>99.4</td>\n",
              "      <td>...</td>\n",
              "      <td>136</td>\n",
              "      <td>mpfi</td>\n",
              "      <td>3.19</td>\n",
              "      <td>3.40</td>\n",
              "      <td>8.0</td>\n",
              "      <td>115</td>\n",
              "      <td>5500.0</td>\n",
              "      <td>18</td>\n",
              "      <td>22</td>\n",
              "      <td>17450.0</td>\n",
              "    </tr>\n",
              "  </tbody>\n",
              "</table>\n",
              "<p>5 rows × 26 columns</p>\n",
              "</div>"
            ],
            "text/plain": [
              "   symboling  normalized-losses  make  fuel-type  aspiration num-of-doors  \\\n",
              "0          3                122     1          1           1          two   \n",
              "1          3                122     1          1           1          two   \n",
              "2          1                122     1          1           1          two   \n",
              "3          2                164     2          1           1         four   \n",
              "4          2                164     2          1           1         four   \n",
              "\n",
              "    body-style  drive-wheels  engine-location  wheel-base  ...  engine-size  \\\n",
              "0  convertible             1                1        88.6  ...          130   \n",
              "1  convertible             1                1        88.6  ...          130   \n",
              "2    hatchback             1                1        94.5  ...          152   \n",
              "3        sedan             2                1        99.8  ...          109   \n",
              "4        sedan             3                1        99.4  ...          136   \n",
              "\n",
              "   fuel-system  bore  stroke  compression-ratio  horsepower  peak-rpm  \\\n",
              "0         mpfi  3.47    2.68                9.0         111    5000.0   \n",
              "1         mpfi  3.47    2.68                9.0         111    5000.0   \n",
              "2         mpfi  2.68    3.47                9.0         154    5000.0   \n",
              "3         mpfi  3.19    3.40               10.0         102    5500.0   \n",
              "4         mpfi  3.19    3.40                8.0         115    5500.0   \n",
              "\n",
              "  city-mpg  highway-mpg    price  \n",
              "0       21           27  13495.0  \n",
              "1       21           27  16500.0  \n",
              "2       19           26  16500.0  \n",
              "3       24           30  13950.0  \n",
              "4       18           22  17450.0  \n",
              "\n",
              "[5 rows x 26 columns]"
            ]
          },
          "execution_count": 74,
          "metadata": {},
          "output_type": "execute_result"
        }
      ]
    },
    {
      "cell_type": "code",
      "metadata": {
        "id": "9319299e",
        "colab": {
          "base_uri": "https://localhost:8080/",
          "height": 1000
        },
        "outputId": "4c100b48-ee34-448d-f317-0f81ff8b99bb"
      },
      "source": [
        "df.corr()"
      ],
      "id": "9319299e",
      "execution_count": null,
      "outputs": [
        {
          "output_type": "execute_result",
          "data": {
            "text/html": [
              "<div>\n",
              "<style scoped>\n",
              "    .dataframe tbody tr th:only-of-type {\n",
              "        vertical-align: middle;\n",
              "    }\n",
              "\n",
              "    .dataframe tbody tr th {\n",
              "        vertical-align: top;\n",
              "    }\n",
              "\n",
              "    .dataframe thead th {\n",
              "        text-align: right;\n",
              "    }\n",
              "</style>\n",
              "<table border=\"1\" class=\"dataframe\">\n",
              "  <thead>\n",
              "    <tr style=\"text-align: right;\">\n",
              "      <th></th>\n",
              "      <th>symboling</th>\n",
              "      <th>normalized-losses</th>\n",
              "      <th>make</th>\n",
              "      <th>fuel-type</th>\n",
              "      <th>aspiration</th>\n",
              "      <th>drive-wheels</th>\n",
              "      <th>engine-location</th>\n",
              "      <th>wheel-base</th>\n",
              "      <th>length</th>\n",
              "      <th>width</th>\n",
              "      <th>height</th>\n",
              "      <th>curb-weight</th>\n",
              "      <th>engine-type</th>\n",
              "      <th>num-of-cylinders</th>\n",
              "      <th>engine-size</th>\n",
              "      <th>bore</th>\n",
              "      <th>stroke</th>\n",
              "      <th>compression-ratio</th>\n",
              "      <th>peak-rpm</th>\n",
              "      <th>city-mpg</th>\n",
              "      <th>highway-mpg</th>\n",
              "      <th>price</th>\n",
              "    </tr>\n",
              "  </thead>\n",
              "  <tbody>\n",
              "    <tr>\n",
              "      <th>symboling</th>\n",
              "      <td>1.000000</td>\n",
              "      <td>4.662638e-01</td>\n",
              "      <td>-0.129645</td>\n",
              "      <td>-0.196735</td>\n",
              "      <td>-0.054615</td>\n",
              "      <td>0.053056</td>\n",
              "      <td>2.123389e-01</td>\n",
              "      <td>-0.535987</td>\n",
              "      <td>-0.365404</td>\n",
              "      <td>-0.242423</td>\n",
              "      <td>-0.550160</td>\n",
              "      <td>-0.233118</td>\n",
              "      <td>0.008612</td>\n",
              "      <td>-0.118016</td>\n",
              "      <td>-0.110581</td>\n",
              "      <td>-0.140019</td>\n",
              "      <td>-0.008153</td>\n",
              "      <td>-0.182196</td>\n",
              "      <td>0.279740</td>\n",
              "      <td>-0.035527</td>\n",
              "      <td>0.036233</td>\n",
              "      <td>-0.082391</td>\n",
              "    </tr>\n",
              "    <tr>\n",
              "      <th>normalized-losses</th>\n",
              "      <td>0.466264</td>\n",
              "      <td>1.000000e+00</td>\n",
              "      <td>-0.254356</td>\n",
              "      <td>-0.101546</td>\n",
              "      <td>-0.006911</td>\n",
              "      <td>-0.317214</td>\n",
              "      <td>1.512888e-17</td>\n",
              "      <td>-0.056661</td>\n",
              "      <td>0.019424</td>\n",
              "      <td>0.086802</td>\n",
              "      <td>-0.373737</td>\n",
              "      <td>0.099404</td>\n",
              "      <td>-0.458925</td>\n",
              "      <td>0.111362</td>\n",
              "      <td>0.112360</td>\n",
              "      <td>-0.029862</td>\n",
              "      <td>0.055045</td>\n",
              "      <td>-0.114713</td>\n",
              "      <td>0.239543</td>\n",
              "      <td>-0.225016</td>\n",
              "      <td>-0.181877</td>\n",
              "      <td>0.133999</td>\n",
              "    </tr>\n",
              "    <tr>\n",
              "      <th>make</th>\n",
              "      <td>-0.129645</td>\n",
              "      <td>-2.543563e-01</td>\n",
              "      <td>1.000000</td>\n",
              "      <td>0.109330</td>\n",
              "      <td>0.071254</td>\n",
              "      <td>0.034844</td>\n",
              "      <td>5.331188e-02</td>\n",
              "      <td>0.073930</td>\n",
              "      <td>0.110468</td>\n",
              "      <td>-0.005115</td>\n",
              "      <td>0.230754</td>\n",
              "      <td>0.017115</td>\n",
              "      <td>0.307688</td>\n",
              "      <td>-0.137205</td>\n",
              "      <td>-0.084770</td>\n",
              "      <td>0.236814</td>\n",
              "      <td>-0.203691</td>\n",
              "      <td>0.132554</td>\n",
              "      <td>-0.212912</td>\n",
              "      <td>0.065761</td>\n",
              "      <td>0.059111</td>\n",
              "      <td>-0.163646</td>\n",
              "    </tr>\n",
              "    <tr>\n",
              "      <th>fuel-type</th>\n",
              "      <td>-0.196735</td>\n",
              "      <td>-1.015463e-01</td>\n",
              "      <td>0.109330</td>\n",
              "      <td>1.000000</td>\n",
              "      <td>0.408228</td>\n",
              "      <td>-0.131096</td>\n",
              "      <td>-4.091700e-02</td>\n",
              "      <td>0.307237</td>\n",
              "      <td>0.211187</td>\n",
              "      <td>0.244356</td>\n",
              "      <td>0.281578</td>\n",
              "      <td>0.221046</td>\n",
              "      <td>0.011234</td>\n",
              "      <td>-0.019874</td>\n",
              "      <td>0.070779</td>\n",
              "      <td>0.054458</td>\n",
              "      <td>0.241064</td>\n",
              "      <td>0.985231</td>\n",
              "      <td>-0.475812</td>\n",
              "      <td>0.265676</td>\n",
              "      <td>0.198690</td>\n",
              "      <td>0.110326</td>\n",
              "    </tr>\n",
              "    <tr>\n",
              "      <th>aspiration</th>\n",
              "      <td>-0.054615</td>\n",
              "      <td>-6.910980e-03</td>\n",
              "      <td>0.071254</td>\n",
              "      <td>0.408228</td>\n",
              "      <td>1.000000</td>\n",
              "      <td>-0.094469</td>\n",
              "      <td>-5.749596e-02</td>\n",
              "      <td>0.256889</td>\n",
              "      <td>0.230085</td>\n",
              "      <td>0.305732</td>\n",
              "      <td>0.090336</td>\n",
              "      <td>0.321955</td>\n",
              "      <td>-0.012364</td>\n",
              "      <td>-0.050026</td>\n",
              "      <td>0.110040</td>\n",
              "      <td>0.227816</td>\n",
              "      <td>0.218233</td>\n",
              "      <td>0.307522</td>\n",
              "      <td>-0.190057</td>\n",
              "      <td>-0.189237</td>\n",
              "      <td>-0.241851</td>\n",
              "      <td>0.179578</td>\n",
              "    </tr>\n",
              "    <tr>\n",
              "      <th>drive-wheels</th>\n",
              "      <td>0.053056</td>\n",
              "      <td>-3.172142e-01</td>\n",
              "      <td>0.034844</td>\n",
              "      <td>-0.131096</td>\n",
              "      <td>-0.094469</td>\n",
              "      <td>1.000000</td>\n",
              "      <td>-1.493687e-01</td>\n",
              "      <td>-0.467661</td>\n",
              "      <td>-0.495197</td>\n",
              "      <td>-0.481395</td>\n",
              "      <td>0.025096</td>\n",
              "      <td>-0.590642</td>\n",
              "      <td>0.520643</td>\n",
              "      <td>-0.314196</td>\n",
              "      <td>-0.526027</td>\n",
              "      <td>-0.471838</td>\n",
              "      <td>-0.078738</td>\n",
              "      <td>-0.120125</td>\n",
              "      <td>0.035765</td>\n",
              "      <td>0.469240</td>\n",
              "      <td>0.472893</td>\n",
              "      <td>-0.588333</td>\n",
              "    </tr>\n",
              "    <tr>\n",
              "      <th>engine-location</th>\n",
              "      <td>0.212339</td>\n",
              "      <td>1.512888e-17</td>\n",
              "      <td>0.053312</td>\n",
              "      <td>-0.040917</td>\n",
              "      <td>-0.057496</td>\n",
              "      <td>-0.149369</td>\n",
              "      <td>1.000000e+00</td>\n",
              "      <td>-0.189115</td>\n",
              "      <td>-0.053086</td>\n",
              "      <td>-0.052205</td>\n",
              "      <td>-0.109225</td>\n",
              "      <td>0.051287</td>\n",
              "      <td>0.327228</td>\n",
              "      <td>0.190647</td>\n",
              "      <td>0.199367</td>\n",
              "      <td>0.188413</td>\n",
              "      <td>-0.139339</td>\n",
              "      <td>-0.020467</td>\n",
              "      <td>0.201917</td>\n",
              "      <td>-0.157132</td>\n",
              "      <td>-0.102964</td>\n",
              "      <td>0.331062</td>\n",
              "    </tr>\n",
              "    <tr>\n",
              "      <th>wheel-base</th>\n",
              "      <td>-0.535987</td>\n",
              "      <td>-5.666124e-02</td>\n",
              "      <td>0.073930</td>\n",
              "      <td>0.307237</td>\n",
              "      <td>0.256889</td>\n",
              "      <td>-0.467661</td>\n",
              "      <td>-1.891150e-01</td>\n",
              "      <td>1.000000</td>\n",
              "      <td>0.876024</td>\n",
              "      <td>0.814507</td>\n",
              "      <td>0.590742</td>\n",
              "      <td>0.782097</td>\n",
              "      <td>-0.313084</td>\n",
              "      <td>0.348931</td>\n",
              "      <td>0.572027</td>\n",
              "      <td>0.493244</td>\n",
              "      <td>0.158018</td>\n",
              "      <td>0.250313</td>\n",
              "      <td>-0.360305</td>\n",
              "      <td>-0.470606</td>\n",
              "      <td>-0.543304</td>\n",
              "      <td>0.584642</td>\n",
              "    </tr>\n",
              "    <tr>\n",
              "      <th>length</th>\n",
              "      <td>-0.365404</td>\n",
              "      <td>1.942356e-02</td>\n",
              "      <td>0.110468</td>\n",
              "      <td>0.211187</td>\n",
              "      <td>0.230085</td>\n",
              "      <td>-0.495197</td>\n",
              "      <td>-5.308613e-02</td>\n",
              "      <td>0.876024</td>\n",
              "      <td>1.000000</td>\n",
              "      <td>0.857170</td>\n",
              "      <td>0.492063</td>\n",
              "      <td>0.880665</td>\n",
              "      <td>-0.462633</td>\n",
              "      <td>0.440348</td>\n",
              "      <td>0.685025</td>\n",
              "      <td>0.608971</td>\n",
              "      <td>0.123952</td>\n",
              "      <td>0.159733</td>\n",
              "      <td>-0.285970</td>\n",
              "      <td>-0.665192</td>\n",
              "      <td>-0.698142</td>\n",
              "      <td>0.690628</td>\n",
              "    </tr>\n",
              "    <tr>\n",
              "      <th>width</th>\n",
              "      <td>-0.242423</td>\n",
              "      <td>8.680206e-02</td>\n",
              "      <td>-0.005115</td>\n",
              "      <td>0.244356</td>\n",
              "      <td>0.305732</td>\n",
              "      <td>-0.481395</td>\n",
              "      <td>-5.220549e-02</td>\n",
              "      <td>0.814507</td>\n",
              "      <td>0.857170</td>\n",
              "      <td>1.000000</td>\n",
              "      <td>0.306002</td>\n",
              "      <td>0.866201</td>\n",
              "      <td>-0.395023</td>\n",
              "      <td>0.520118</td>\n",
              "      <td>0.729436</td>\n",
              "      <td>0.544885</td>\n",
              "      <td>0.188822</td>\n",
              "      <td>0.189867</td>\n",
              "      <td>-0.245800</td>\n",
              "      <td>-0.633531</td>\n",
              "      <td>-0.680635</td>\n",
              "      <td>0.751265</td>\n",
              "    </tr>\n",
              "    <tr>\n",
              "      <th>height</th>\n",
              "      <td>-0.550160</td>\n",
              "      <td>-3.737370e-01</td>\n",
              "      <td>0.230754</td>\n",
              "      <td>0.281578</td>\n",
              "      <td>0.090336</td>\n",
              "      <td>0.025096</td>\n",
              "      <td>-1.092253e-01</td>\n",
              "      <td>0.590742</td>\n",
              "      <td>0.492063</td>\n",
              "      <td>0.306002</td>\n",
              "      <td>1.000000</td>\n",
              "      <td>0.307581</td>\n",
              "      <td>0.012112</td>\n",
              "      <td>0.007776</td>\n",
              "      <td>0.074694</td>\n",
              "      <td>0.180449</td>\n",
              "      <td>-0.060663</td>\n",
              "      <td>0.259737</td>\n",
              "      <td>-0.309974</td>\n",
              "      <td>-0.049800</td>\n",
              "      <td>-0.104812</td>\n",
              "      <td>0.135486</td>\n",
              "    </tr>\n",
              "    <tr>\n",
              "      <th>curb-weight</th>\n",
              "      <td>-0.233118</td>\n",
              "      <td>9.940425e-02</td>\n",
              "      <td>0.017115</td>\n",
              "      <td>0.221046</td>\n",
              "      <td>0.321955</td>\n",
              "      <td>-0.590642</td>\n",
              "      <td>5.128729e-02</td>\n",
              "      <td>0.782097</td>\n",
              "      <td>0.880665</td>\n",
              "      <td>0.866201</td>\n",
              "      <td>0.307581</td>\n",
              "      <td>1.000000</td>\n",
              "      <td>-0.530366</td>\n",
              "      <td>0.604454</td>\n",
              "      <td>0.849072</td>\n",
              "      <td>0.644060</td>\n",
              "      <td>0.167438</td>\n",
              "      <td>0.156433</td>\n",
              "      <td>-0.279361</td>\n",
              "      <td>-0.749543</td>\n",
              "      <td>-0.794889</td>\n",
              "      <td>0.834415</td>\n",
              "    </tr>\n",
              "    <tr>\n",
              "      <th>engine-type</th>\n",
              "      <td>0.008612</td>\n",
              "      <td>-4.589246e-01</td>\n",
              "      <td>0.307688</td>\n",
              "      <td>0.011234</td>\n",
              "      <td>-0.012364</td>\n",
              "      <td>0.520643</td>\n",
              "      <td>3.272283e-01</td>\n",
              "      <td>-0.313084</td>\n",
              "      <td>-0.462633</td>\n",
              "      <td>-0.395023</td>\n",
              "      <td>0.012112</td>\n",
              "      <td>-0.530366</td>\n",
              "      <td>1.000000</td>\n",
              "      <td>-0.393698</td>\n",
              "      <td>-0.426520</td>\n",
              "      <td>0.386504</td>\n",
              "      <td>-0.533074</td>\n",
              "      <td>0.018364</td>\n",
              "      <td>-0.102828</td>\n",
              "      <td>0.345210</td>\n",
              "      <td>0.373926</td>\n",
              "      <td>-0.301995</td>\n",
              "    </tr>\n",
              "    <tr>\n",
              "      <th>num-of-cylinders</th>\n",
              "      <td>-0.118016</td>\n",
              "      <td>1.113619e-01</td>\n",
              "      <td>-0.137205</td>\n",
              "      <td>-0.019874</td>\n",
              "      <td>-0.050026</td>\n",
              "      <td>-0.314196</td>\n",
              "      <td>1.906469e-01</td>\n",
              "      <td>0.348931</td>\n",
              "      <td>0.440348</td>\n",
              "      <td>0.520118</td>\n",
              "      <td>0.007776</td>\n",
              "      <td>0.604454</td>\n",
              "      <td>-0.393698</td>\n",
              "      <td>1.000000</td>\n",
              "      <td>0.847639</td>\n",
              "      <td>0.202661</td>\n",
              "      <td>0.013362</td>\n",
              "      <td>-0.018138</td>\n",
              "      <td>-0.151909</td>\n",
              "      <td>-0.439432</td>\n",
              "      <td>-0.473746</td>\n",
              "      <td>0.708645</td>\n",
              "    </tr>\n",
              "    <tr>\n",
              "      <th>engine-size</th>\n",
              "      <td>-0.110581</td>\n",
              "      <td>1.123600e-01</td>\n",
              "      <td>-0.084770</td>\n",
              "      <td>0.070779</td>\n",
              "      <td>0.110040</td>\n",
              "      <td>-0.526027</td>\n",
              "      <td>1.993671e-01</td>\n",
              "      <td>0.572027</td>\n",
              "      <td>0.685025</td>\n",
              "      <td>0.729436</td>\n",
              "      <td>0.074694</td>\n",
              "      <td>0.849072</td>\n",
              "      <td>-0.426520</td>\n",
              "      <td>0.847639</td>\n",
              "      <td>1.000000</td>\n",
              "      <td>0.572609</td>\n",
              "      <td>0.205928</td>\n",
              "      <td>0.028889</td>\n",
              "      <td>-0.256733</td>\n",
              "      <td>-0.650546</td>\n",
              "      <td>-0.679571</td>\n",
              "      <td>0.872335</td>\n",
              "    </tr>\n",
              "    <tr>\n",
              "      <th>bore</th>\n",
              "      <td>-0.140019</td>\n",
              "      <td>-2.986248e-02</td>\n",
              "      <td>0.236814</td>\n",
              "      <td>0.054458</td>\n",
              "      <td>0.227816</td>\n",
              "      <td>-0.471838</td>\n",
              "      <td>1.884129e-01</td>\n",
              "      <td>0.493244</td>\n",
              "      <td>0.608971</td>\n",
              "      <td>0.544885</td>\n",
              "      <td>0.180449</td>\n",
              "      <td>0.644060</td>\n",
              "      <td>0.386504</td>\n",
              "      <td>0.202661</td>\n",
              "      <td>0.572609</td>\n",
              "      <td>1.000000</td>\n",
              "      <td>-0.055390</td>\n",
              "      <td>0.001263</td>\n",
              "      <td>-0.267392</td>\n",
              "      <td>-0.582027</td>\n",
              "      <td>-0.591309</td>\n",
              "      <td>0.543155</td>\n",
              "    </tr>\n",
              "    <tr>\n",
              "      <th>stroke</th>\n",
              "      <td>-0.008153</td>\n",
              "      <td>5.504531e-02</td>\n",
              "      <td>-0.203691</td>\n",
              "      <td>0.241064</td>\n",
              "      <td>0.218233</td>\n",
              "      <td>-0.078738</td>\n",
              "      <td>-1.393393e-01</td>\n",
              "      <td>0.158018</td>\n",
              "      <td>0.123952</td>\n",
              "      <td>0.188822</td>\n",
              "      <td>-0.060663</td>\n",
              "      <td>0.167438</td>\n",
              "      <td>-0.533074</td>\n",
              "      <td>0.013362</td>\n",
              "      <td>0.205928</td>\n",
              "      <td>-0.055390</td>\n",
              "      <td>1.000000</td>\n",
              "      <td>0.187871</td>\n",
              "      <td>-0.063561</td>\n",
              "      <td>-0.033956</td>\n",
              "      <td>-0.034636</td>\n",
              "      <td>0.082269</td>\n",
              "    </tr>\n",
              "    <tr>\n",
              "      <th>compression-ratio</th>\n",
              "      <td>-0.182196</td>\n",
              "      <td>-1.147132e-01</td>\n",
              "      <td>0.132554</td>\n",
              "      <td>0.985231</td>\n",
              "      <td>0.307522</td>\n",
              "      <td>-0.120125</td>\n",
              "      <td>-2.046739e-02</td>\n",
              "      <td>0.250313</td>\n",
              "      <td>0.159733</td>\n",
              "      <td>0.189867</td>\n",
              "      <td>0.259737</td>\n",
              "      <td>0.156433</td>\n",
              "      <td>0.018364</td>\n",
              "      <td>-0.018138</td>\n",
              "      <td>0.028889</td>\n",
              "      <td>0.001263</td>\n",
              "      <td>0.187871</td>\n",
              "      <td>1.000000</td>\n",
              "      <td>-0.435780</td>\n",
              "      <td>0.331425</td>\n",
              "      <td>0.268465</td>\n",
              "      <td>0.071107</td>\n",
              "    </tr>\n",
              "    <tr>\n",
              "      <th>peak-rpm</th>\n",
              "      <td>0.279740</td>\n",
              "      <td>2.395435e-01</td>\n",
              "      <td>-0.212912</td>\n",
              "      <td>-0.475812</td>\n",
              "      <td>-0.190057</td>\n",
              "      <td>0.035765</td>\n",
              "      <td>2.019167e-01</td>\n",
              "      <td>-0.360305</td>\n",
              "      <td>-0.285970</td>\n",
              "      <td>-0.245800</td>\n",
              "      <td>-0.309974</td>\n",
              "      <td>-0.279361</td>\n",
              "      <td>-0.102828</td>\n",
              "      <td>-0.151909</td>\n",
              "      <td>-0.256733</td>\n",
              "      <td>-0.267392</td>\n",
              "      <td>-0.063561</td>\n",
              "      <td>-0.435780</td>\n",
              "      <td>1.000000</td>\n",
              "      <td>-0.115413</td>\n",
              "      <td>-0.058598</td>\n",
              "      <td>-0.101616</td>\n",
              "    </tr>\n",
              "    <tr>\n",
              "      <th>city-mpg</th>\n",
              "      <td>-0.035527</td>\n",
              "      <td>-2.250157e-01</td>\n",
              "      <td>0.065761</td>\n",
              "      <td>0.265676</td>\n",
              "      <td>-0.189237</td>\n",
              "      <td>0.469240</td>\n",
              "      <td>-1.571318e-01</td>\n",
              "      <td>-0.470606</td>\n",
              "      <td>-0.665192</td>\n",
              "      <td>-0.633531</td>\n",
              "      <td>-0.049800</td>\n",
              "      <td>-0.749543</td>\n",
              "      <td>0.345210</td>\n",
              "      <td>-0.439432</td>\n",
              "      <td>-0.650546</td>\n",
              "      <td>-0.582027</td>\n",
              "      <td>-0.033956</td>\n",
              "      <td>0.331425</td>\n",
              "      <td>-0.115413</td>\n",
              "      <td>1.000000</td>\n",
              "      <td>0.972044</td>\n",
              "      <td>-0.686571</td>\n",
              "    </tr>\n",
              "    <tr>\n",
              "      <th>highway-mpg</th>\n",
              "      <td>0.036233</td>\n",
              "      <td>-1.818772e-01</td>\n",
              "      <td>0.059111</td>\n",
              "      <td>0.198690</td>\n",
              "      <td>-0.241851</td>\n",
              "      <td>0.472893</td>\n",
              "      <td>-1.029641e-01</td>\n",
              "      <td>-0.543304</td>\n",
              "      <td>-0.698142</td>\n",
              "      <td>-0.680635</td>\n",
              "      <td>-0.104812</td>\n",
              "      <td>-0.794889</td>\n",
              "      <td>0.373926</td>\n",
              "      <td>-0.473746</td>\n",
              "      <td>-0.679571</td>\n",
              "      <td>-0.591309</td>\n",
              "      <td>-0.034636</td>\n",
              "      <td>0.268465</td>\n",
              "      <td>-0.058598</td>\n",
              "      <td>0.972044</td>\n",
              "      <td>1.000000</td>\n",
              "      <td>-0.704692</td>\n",
              "    </tr>\n",
              "    <tr>\n",
              "      <th>price</th>\n",
              "      <td>-0.082391</td>\n",
              "      <td>1.339987e-01</td>\n",
              "      <td>-0.163646</td>\n",
              "      <td>0.110326</td>\n",
              "      <td>0.179578</td>\n",
              "      <td>-0.588333</td>\n",
              "      <td>3.310619e-01</td>\n",
              "      <td>0.584642</td>\n",
              "      <td>0.690628</td>\n",
              "      <td>0.751265</td>\n",
              "      <td>0.135486</td>\n",
              "      <td>0.834415</td>\n",
              "      <td>-0.301995</td>\n",
              "      <td>0.708645</td>\n",
              "      <td>0.872335</td>\n",
              "      <td>0.543155</td>\n",
              "      <td>0.082269</td>\n",
              "      <td>0.071107</td>\n",
              "      <td>-0.101616</td>\n",
              "      <td>-0.686571</td>\n",
              "      <td>-0.704692</td>\n",
              "      <td>1.000000</td>\n",
              "    </tr>\n",
              "  </tbody>\n",
              "</table>\n",
              "</div>"
            ],
            "text/plain": [
              "                   symboling  normalized-losses  ...  highway-mpg     price\n",
              "symboling           1.000000       4.662638e-01  ...     0.036233 -0.082391\n",
              "normalized-losses   0.466264       1.000000e+00  ...    -0.181877  0.133999\n",
              "make               -0.129645      -2.543563e-01  ...     0.059111 -0.163646\n",
              "fuel-type          -0.196735      -1.015463e-01  ...     0.198690  0.110326\n",
              "aspiration         -0.054615      -6.910980e-03  ...    -0.241851  0.179578\n",
              "drive-wheels        0.053056      -3.172142e-01  ...     0.472893 -0.588333\n",
              "engine-location     0.212339       1.512888e-17  ...    -0.102964  0.331062\n",
              "wheel-base         -0.535987      -5.666124e-02  ...    -0.543304  0.584642\n",
              "length             -0.365404       1.942356e-02  ...    -0.698142  0.690628\n",
              "width              -0.242423       8.680206e-02  ...    -0.680635  0.751265\n",
              "height             -0.550160      -3.737370e-01  ...    -0.104812  0.135486\n",
              "curb-weight        -0.233118       9.940425e-02  ...    -0.794889  0.834415\n",
              "engine-type         0.008612      -4.589246e-01  ...     0.373926 -0.301995\n",
              "num-of-cylinders   -0.118016       1.113619e-01  ...    -0.473746  0.708645\n",
              "engine-size        -0.110581       1.123600e-01  ...    -0.679571  0.872335\n",
              "bore               -0.140019      -2.986248e-02  ...    -0.591309  0.543155\n",
              "stroke             -0.008153       5.504531e-02  ...    -0.034636  0.082269\n",
              "compression-ratio  -0.182196      -1.147132e-01  ...     0.268465  0.071107\n",
              "peak-rpm            0.279740       2.395435e-01  ...    -0.058598 -0.101616\n",
              "city-mpg           -0.035527      -2.250157e-01  ...     0.972044 -0.686571\n",
              "highway-mpg         0.036233      -1.818772e-01  ...     1.000000 -0.704692\n",
              "price              -0.082391       1.339987e-01  ...    -0.704692  1.000000\n",
              "\n",
              "[22 rows x 22 columns]"
            ]
          },
          "metadata": {},
          "execution_count": 24
        }
      ]
    },
    {
      "cell_type": "code",
      "metadata": {
        "id": "2418ba8a",
        "colab": {
          "base_uri": "https://localhost:8080/"
        },
        "outputId": "7e5cb22c-0ec2-41c7-ebf9-04b249d3e166"
      },
      "source": [
        "df.duplicated().value_counts()"
      ],
      "id": "2418ba8a",
      "execution_count": null,
      "outputs": [
        {
          "output_type": "execute_result",
          "data": {
            "text/plain": [
              "False    201\n",
              "dtype: int64"
            ]
          },
          "metadata": {},
          "execution_count": 25
        }
      ]
    },
    {
      "cell_type": "code",
      "metadata": {
        "id": "117b27cd",
        "colab": {
          "base_uri": "https://localhost:8080/",
          "height": 629
        },
        "outputId": "1fb8da22-cd24-4ebf-8cd9-b80fc0009b0e"
      },
      "source": [
        "#set seaborn plotting aesthetics as default\n",
        "sns.set()\n",
        "\n",
        "#define plotting region (2 rows, 2 columns)\n",
        "fig, axes = plt.subplots(2, 2, figsize = (15,10))\n",
        "\n",
        "#create boxplot in each subplot\n",
        "sns.regplot(data=df, x='price', y='drive-wheels', ax=axes[0,0], )\n",
        "sns.regplot(data=df, x='price', y='height', ax=axes[0,1])\n",
        "sns.regplot(data=df, x='price', y='length', ax=axes[1,0])\n",
        "sns.regplot(data=df, x='price', y='width', ax=axes[1,1])"
      ],
      "id": "117b27cd",
      "execution_count": null,
      "outputs": [
        {
          "output_type": "execute_result",
          "data": {
            "text/plain": [
              "<matplotlib.axes._subplots.AxesSubplot at 0x7f59a72910d0>"
            ]
          },
          "metadata": {},
          "execution_count": 26
        },
        {
          "output_type": "display_data",
          "data": {
            "image/png": "[encoded data removed]",
            "text/plain": [
              "<Figure size 1080x720 with 4 Axes>"
            ]
          },
          "metadata": {}
        }
      ]
    },
    {
      "cell_type": "code",
      "metadata": {
        "id": "6dfeacfc",
        "colab": {
          "base_uri": "https://localhost:8080/",
          "height": 629
        },
        "outputId": "a7574586-ec8c-400d-abba-ebcd31bcb0d2"
      },
      "source": [
        "#set seaborn plotting aesthetics as default\n",
        "sns.set()\n",
        "\n",
        "#define plotting region (2 rows, 2 columns)\n",
        "fig, axes = plt.subplots(2, 2, figsize = (15,10))\n",
        "\n",
        "#create boxplot in each subplot\n",
        "sns.regplot(data=df, x='price', y='drive-wheels', ax=axes[0,0], )\n",
        "sns.regplot(data=df, x='price', y='aspiration', ax=axes[0,1])\n",
        "sns.regplot(data=df, x='price', y='stroke', ax=axes[1,0])\n",
        "sns.regplot(data=df, x='price', y='num-of-cylinders', ax=axes[1,1])"
      ],
      "id": "6dfeacfc",
      "execution_count": null,
      "outputs": [
        {
          "output_type": "execute_result",
          "data": {
            "text/plain": [
              "<matplotlib.axes._subplots.AxesSubplot at 0x7f59a1061e10>"
            ]
          },
          "metadata": {},
          "execution_count": 55
        },
        {
          "output_type": "display_data",
          "data": {
            "image/png": "[encoded data removed]",
            "text/plain": [
              "<Figure size 1080x720 with 4 Axes>"
            ]
          },
          "metadata": {}
        }
      ]
    },
    {
      "cell_type": "code",
      "metadata": {
        "colab": {
          "base_uri": "https://localhost:8080/",
          "height": 357
        },
        "id": "g24Ssn4LOa8a",
        "outputId": "dc4772d8-9ae4-4beb-f363-70395d7316f0"
      },
      "source": [
        "#set seaborn plotting aesthetics as default\n",
        "sns.set()\n",
        "\n",
        "#define plotting region (2 rows, 2 columns)\n",
        "fig, axes = plt.subplots(1, 2, figsize = (15,5))\n",
        "\n",
        "#create boxplot in each subplot\n",
        "sns.regplot(data=df, x='price', y='horsepower', ax=axes[0], )\n",
        "sns.regplot(data=df, x='price', y='engine-size', ax=axes[1])\n"
      ],
      "id": "g24Ssn4LOa8a",
      "execution_count": null,
      "outputs": [
        {
          "output_type": "execute_result",
          "data": {
            "text/plain": [
              "<matplotlib.axes._subplots.AxesSubplot at 0x7f59a0a0f710>"
            ]
          },
          "metadata": {},
          "execution_count": 62
        },
        {
          "output_type": "display_data",
          "data": {
            "image/png": "[encoded data removed]",
            "text/plain": [
              "<Figure size 1080x360 with 2 Axes>"
            ]
          },
          "metadata": {}
        }
      ]
    },
    {
      "cell_type": "code",
      "metadata": {
        "id": "fe813e77",
        "colab": {
          "base_uri": "https://localhost:8080/"
        },
        "outputId": "b6c83775-8514-4fc1-bd04-9d3f4217b019"
      },
      "source": [
        "df.columns"
      ],
      "id": "fe813e77",
      "execution_count": null,
      "outputs": [
        {
          "output_type": "execute_result",
          "data": {
            "text/plain": [
              "Index(['symboling', 'normalized-losses', 'make', 'fuel-type', 'aspiration',\n",
              "       'num-of-doors', 'body-style', 'drive-wheels', 'engine-location',\n",
              "       'wheel-base', 'length', 'width', 'height', 'curb-weight', 'engine-type',\n",
              "       'num-of-cylinders', 'engine-size', 'fuel-system', 'bore', 'stroke',\n",
              "       'compression-ratio', 'horsepower', 'peak-rpm', 'city-mpg',\n",
              "       'highway-mpg', 'price'],\n",
              "      dtype='object')"
            ]
          },
          "metadata": {},
          "execution_count": 28
        }
      ]
    },
    {
      "cell_type": "markdown",
      "metadata": {
        "id": "6d27917c"
      },
      "source": [
        "###### From the distribution data, we can see that there are no outliers in the data. \n",
        "There is a gradual increase in the numbers."
      ],
      "id": "6d27917c"
    },
    {
      "cell_type": "markdown",
      "metadata": {
        "id": "dcdbf88c"
      },
      "source": [
        "##### Model Building\n",
        "Before building the model, we’ll split the data into train and test data, similar to the linear regression model. So that we’ll make the model using train data and evaluate the model on test data.\n"
      ],
      "id": "dcdbf88c"
    },
    {
      "cell_type": "markdown",
      "metadata": {
        "id": "cd0aee6e"
      },
      "source": [
        "###### Test-Train Split\n",
        "By using the sklearn library, we’ll import the test_train_split to split the data. But before splitting the data, we’ll divide the dataset into two dataframes X and y."
      ],
      "id": "cd0aee6e"
    },
    {
      "cell_type": "code",
      "metadata": {
        "id": "979b4db0"
      },
      "source": [
        "# Importing necessary libraries to split the data\n",
        "from sklearn.model_selection import train_test_split\n",
        "from sklearn.linear_model import LinearRegression \n"
      ],
      "id": "979b4db0",
      "execution_count": null,
      "outputs": []
    },
    {
      "cell_type": "markdown",
      "metadata": {
        "id": "294b9f13"
      },
      "source": [
        "###### Let’s assign the target variable to y and split the data into test and train sets."
      ],
      "id": "294b9f13"
    },
    {
      "cell_type": "code",
      "metadata": {
        "id": "b3a24373"
      },
      "source": [
        "X = df[[\"horsepower\"]]\n",
        "# Putting response variable to y\n",
        "y = df['price']\n",
        "\n",
        "# Splitting the data into train and test\n",
        "X_train, X_test, y_train, y_test = train_test_split(X, y, train_size=0.7, test_size=0.3, random_state=45)"
      ],
      "id": "b3a24373",
      "execution_count": null,
      "outputs": []
    },
    {
      "cell_type": "code",
      "metadata": {
        "id": "8fc257c0"
      },
      "source": [
        "# Create the Linear Regression model object\n",
        "model = LinearRegression()"
      ],
      "id": "8fc257c0",
      "execution_count": null,
      "outputs": []
    },
    {
      "cell_type": "code",
      "metadata": {
        "id": "6920d79a",
        "colab": {
          "base_uri": "https://localhost:8080/"
        },
        "outputId": "73e73fc3-280a-4c8d-8d1d-aa6549f6b029"
      },
      "source": [
        "# Train the model using the training sets\n",
        "model.fit(X_train, y_train)"
      ],
      "id": "6920d79a",
      "execution_count": null,
      "outputs": [
        {
          "output_type": "execute_result",
          "data": {
            "text/plain": [
              "LinearRegression(copy_X=True, fit_intercept=True, n_jobs=None, normalize=False)"
            ]
          },
          "metadata": {},
          "execution_count": 32
        }
      ]
    },
    {
      "cell_type": "code",
      "metadata": {
        "id": "a87336a5",
        "colab": {
          "base_uri": "https://localhost:8080/"
        },
        "outputId": "3408f60d-0c72-40ed-f969-d8c298dbb6cb"
      },
      "source": [
        "print('Weight coefficients: ', model.coef_)\n",
        "print('y-axis intercept: ', model.intercept_)"
      ],
      "id": "a87336a5",
      "execution_count": null,
      "outputs": [
        {
          "output_type": "stream",
          "name": "stdout",
          "text": [
            "Weight coefficients:  [179.66626261]\n",
            "y-axis intercept:  -5285.713768456686\n"
          ]
        }
      ]
    },
    {
      "cell_type": "code",
      "metadata": {
        "id": "016894cc",
        "colab": {
          "base_uri": "https://localhost:8080/"
        },
        "outputId": "01e3ef5b-3e00-416b-9f26-50be09e45a50"
      },
      "source": [
        "# Make predictions using the testing dataset\n",
        "y_pred = model.predict(X_test)\n",
        "\n",
        "# Score the model with the testing dataset\n",
        "model.score(X_test, y_test)"
      ],
      "id": "016894cc",
      "execution_count": null,
      "outputs": [
        {
          "output_type": "execute_result",
          "data": {
            "text/plain": [
              "0.48983027641076343"
            ]
          },
          "metadata": {},
          "execution_count": 34
        }
      ]
    },
    {
      "cell_type": "code",
      "metadata": {
        "id": "0f4122d0",
        "colab": {
          "base_uri": "https://localhost:8080/",
          "height": 286
        },
        "outputId": "652f731d-c316-40c5-9a91-50caceeb61b8"
      },
      "source": [
        "# Plot outputs\n",
        "plt.scatter(y_pred, y_pred-y_test)\n",
        "plt.hlines(y=0, xmin=y_pred.min(), xmax=y_pred.max())"
      ],
      "id": "0f4122d0",
      "execution_count": null,
      "outputs": [
        {
          "output_type": "execute_result",
          "data": {
            "text/plain": [
              "<matplotlib.collections.LineCollection at 0x7f59a476d810>"
            ]
          },
          "metadata": {},
          "execution_count": 35
        },
        {
          "output_type": "display_data",
          "data": {
            "image/png": "[encoded data removed]",
            "text/plain": [
              "<Figure size 432x288 with 1 Axes>"
            ]
          },
          "metadata": {}
        }
      ]
    },
    {
      "cell_type": "code",
      "metadata": {
        "id": "301c6e48",
        "colab": {
          "base_uri": "https://localhost:8080/",
          "height": 359
        },
        "outputId": "b36eae73-d5c9-4886-b032-581179d7b4c1"
      },
      "source": [
        "# Create DataFrame of results\n",
        "df_pred = pd.DataFrame({\"Predicted\": y_pred, \"Actual\": y_test, \"Error\": y_pred - y_test})[[\"Predicted\", \"Actual\", \"Error\"]]\n",
        "df_pred.head(10)"
      ],
      "id": "301c6e48",
      "execution_count": null,
      "outputs": [
        {
          "output_type": "execute_result",
          "data": {
            "text/html": [
              "<div>\n",
              "<style scoped>\n",
              "    .dataframe tbody tr th:only-of-type {\n",
              "        vertical-align: middle;\n",
              "    }\n",
              "\n",
              "    .dataframe tbody tr th {\n",
              "        vertical-align: top;\n",
              "    }\n",
              "\n",
              "    .dataframe thead th {\n",
              "        text-align: right;\n",
              "    }\n",
              "</style>\n",
              "<table border=\"1\" class=\"dataframe\">\n",
              "  <thead>\n",
              "    <tr style=\"text-align: right;\">\n",
              "      <th></th>\n",
              "      <th>Predicted</th>\n",
              "      <th>Actual</th>\n",
              "      <th>Error</th>\n",
              "    </tr>\n",
              "  </thead>\n",
              "  <tbody>\n",
              "    <tr>\n",
              "      <th>45</th>\n",
              "      <td>26335.548451</td>\n",
              "      <td>35550.0</td>\n",
              "      <td>-9214.451549</td>\n",
              "    </tr>\n",
              "    <tr>\n",
              "      <th>72</th>\n",
              "      <td>26155.882189</td>\n",
              "      <td>16503.0</td>\n",
              "      <td>9652.882189</td>\n",
              "    </tr>\n",
              "    <tr>\n",
              "      <th>40</th>\n",
              "      <td>12860.578755</td>\n",
              "      <td>12945.0</td>\n",
              "      <td>-84.421245</td>\n",
              "    </tr>\n",
              "    <tr>\n",
              "      <th>58</th>\n",
              "      <td>9806.252291</td>\n",
              "      <td>10595.0</td>\n",
              "      <td>-788.747709</td>\n",
              "    </tr>\n",
              "    <tr>\n",
              "      <th>25</th>\n",
              "      <td>6931.592089</td>\n",
              "      <td>7609.0</td>\n",
              "      <td>-677.407911</td>\n",
              "    </tr>\n",
              "    <tr>\n",
              "      <th>13</th>\n",
              "      <td>16453.904008</td>\n",
              "      <td>24565.0</td>\n",
              "      <td>-8111.095992</td>\n",
              "    </tr>\n",
              "    <tr>\n",
              "      <th>166</th>\n",
              "      <td>15555.572695</td>\n",
              "      <td>11199.0</td>\n",
              "      <td>4356.572695</td>\n",
              "    </tr>\n",
              "    <tr>\n",
              "      <th>80</th>\n",
              "      <td>20765.894310</td>\n",
              "      <td>14869.0</td>\n",
              "      <td>5896.894310</td>\n",
              "    </tr>\n",
              "    <tr>\n",
              "      <th>3</th>\n",
              "      <td>13040.245018</td>\n",
              "      <td>13950.0</td>\n",
              "      <td>-909.754982</td>\n",
              "    </tr>\n",
              "    <tr>\n",
              "      <th>44</th>\n",
              "      <td>26335.548451</td>\n",
              "      <td>32250.0</td>\n",
              "      <td>-5914.451549</td>\n",
              "    </tr>\n",
              "  </tbody>\n",
              "</table>\n",
              "</div>"
            ],
            "text/plain": [
              "        Predicted   Actual        Error\n",
              "45   26335.548451  35550.0 -9214.451549\n",
              "72   26155.882189  16503.0  9652.882189\n",
              "40   12860.578755  12945.0   -84.421245\n",
              "58    9806.252291  10595.0  -788.747709\n",
              "25    6931.592089   7609.0  -677.407911\n",
              "13   16453.904008  24565.0 -8111.095992\n",
              "166  15555.572695  11199.0  4356.572695\n",
              "80   20765.894310  14869.0  5896.894310\n",
              "3    13040.245018  13950.0  -909.754982\n",
              "44   26335.548451  32250.0 -5914.451549"
            ]
          },
          "metadata": {},
          "execution_count": 36
        }
      ]
    },
    {
      "cell_type": "code",
      "metadata": {
        "colab": {
          "base_uri": "https://localhost:8080/",
          "height": 387
        },
        "id": "Lp9MjGvMIKvM",
        "outputId": "0aacafbb-4015-484b-c08e-a41937376049"
      },
      "source": [
        "ax1 = sns.distplot(y_test,hist = False, color=\"r\", label=\"Actual Value\")\n",
        "sns.distplot(y_pred, hist = False, color=\"b\", label=\"predicted Value\", ax=ax1)\n",
        "plt.ylim(0,)\n",
        "plt.legend()\n",
        "plt.show()"
      ],
      "id": "Lp9MjGvMIKvM",
      "execution_count": null,
      "outputs": [
        {
          "output_type": "stream",
          "name": "stderr",
          "text": [
            "/usr/local/lib/python3.7/dist-packages/seaborn/distributions.py:2619: FutureWarning: `distplot` is a deprecated function and will be removed in a future version. Please adapt your code to use either `displot` (a figure-level function with similar flexibility) or `kdeplot` (an axes-level function for kernel density plots).\n",
            "  warnings.warn(msg, FutureWarning)\n",
            "/usr/local/lib/python3.7/dist-packages/seaborn/distributions.py:2619: FutureWarning: `distplot` is a deprecated function and will be removed in a future version. Please adapt your code to use either `displot` (a figure-level function with similar flexibility) or `kdeplot` (an axes-level function for kernel density plots).\n",
            "  warnings.warn(msg, FutureWarning)\n"
          ]
        },
        {
          "output_type": "display_data",
          "data": {
            "image/png": "[encoded data removed]",
            "text/plain": [
              "<Figure size 432x288 with 1 Axes>"
            ]
          },
          "metadata": {}
        }
      ]
    },
    {
      "cell_type": "markdown",
      "metadata": {
        "id": "b237487e"
      },
      "source": [
        "### Multiple Linear Regression"
      ],
      "id": "b237487e"
    },
    {
      "cell_type": "code",
      "metadata": {
        "id": "361ca829"
      },
      "source": [
        "# Importing necessary libraries to split the data\n",
        "from sklearn.model_selection import train_test_split\n",
        "from sklearn.linear_model import LinearRegression "
      ],
      "id": "361ca829",
      "execution_count": null,
      "outputs": []
    },
    {
      "cell_type": "code",
      "metadata": {
        "id": "10881926"
      },
      "source": [
        "\n",
        "X = df[[\"curb-weight\",'engine-size','wheel-base','length','width', 'height','horsepower','highway-mpg']]\n",
        "# Putting response variable to y\n",
        "y = df['price']\n"
      ],
      "id": "10881926",
      "execution_count": null,
      "outputs": []
    },
    {
      "cell_type": "code",
      "metadata": {
        "id": "5d35079f"
      },
      "source": [
        "# Create our Validation training and testing datasets.\n",
        "X_train, X_test, y_train, y_test = train_test_split(X, y, test_size=0.20, random_state=42)"
      ],
      "id": "5d35079f",
      "execution_count": null,
      "outputs": []
    },
    {
      "cell_type": "code",
      "metadata": {
        "id": "2cac73c6"
      },
      "source": [
        "# Create the Linear Regression model object\n",
        "model = LinearRegression()"
      ],
      "id": "2cac73c6",
      "execution_count": null,
      "outputs": []
    },
    {
      "cell_type": "code",
      "metadata": {
        "id": "c116f926",
        "colab": {
          "base_uri": "https://localhost:8080/"
        },
        "outputId": "ffd91f63-f9ff-4524-83e6-76ce6cd6025a"
      },
      "source": [
        "# Train the model using the training sets\n",
        "model.fit(X_train, y_train)"
      ],
      "id": "c116f926",
      "execution_count": null,
      "outputs": [
        {
          "output_type": "execute_result",
          "data": {
            "text/plain": [
              "LinearRegression(copy_X=True, fit_intercept=True, n_jobs=None, normalize=False)"
            ]
          },
          "metadata": {},
          "execution_count": 84
        }
      ]
    },
    {
      "cell_type": "code",
      "metadata": {
        "id": "09a54967",
        "colab": {
          "base_uri": "https://localhost:8080/"
        },
        "outputId": "00f76899-a619-4b8b-bf6b-b5c9583c4649"
      },
      "source": [
        "print('Weight coefficients: ', model.coef_)\n",
        "print('y-axis intercept: ', model.intercept_)"
      ],
      "id": "09a54967",
      "execution_count": null,
      "outputs": [
        {
          "output_type": "stream",
          "name": "stdout",
          "text": [
            "Weight coefficients:  [  0.94510689  77.27050604 157.48682149 -48.5775502  622.41799541\n",
            "   6.48888903  41.77552924 -43.50272569]\n",
            "y-axis intercept:  -50784.258381569394\n"
          ]
        }
      ]
    },
    {
      "cell_type": "code",
      "metadata": {
        "id": "5f4e8e2b",
        "colab": {
          "base_uri": "https://localhost:8080/"
        },
        "outputId": "1daaa349-580d-4a8c-9cf8-07905f29424a"
      },
      "source": [
        "# Make predictions using the testing dataset\n",
        "y_pred = model.predict(X_test)\n",
        "\n",
        "# Score the model with the testing dataset\n",
        "model.score(X_test, y_test)"
      ],
      "id": "5f4e8e2b",
      "execution_count": null,
      "outputs": [
        {
          "output_type": "execute_result",
          "data": {
            "text/plain": [
              "0.7558481022290993"
            ]
          },
          "metadata": {},
          "execution_count": 86
        }
      ]
    },
    {
      "cell_type": "code",
      "metadata": {
        "id": "2e26ff18",
        "colab": {
          "base_uri": "https://localhost:8080/",
          "height": 286
        },
        "outputId": "b1f82a80-2408-4da3-afb4-3a6d1126fc50"
      },
      "source": [
        "# Plot outputs\n",
        "plt.scatter(y_pred, y_pred-y_test)\n",
        "plt.hlines(y=0, xmin=y_pred.min(), xmax=y_pred.max())"
      ],
      "id": "2e26ff18",
      "execution_count": null,
      "outputs": [
        {
          "output_type": "execute_result",
          "data": {
            "text/plain": [
              "<matplotlib.collections.LineCollection at 0x7f59a07d3c90>"
            ]
          },
          "metadata": {},
          "execution_count": 87
        },
        {
          "output_type": "display_data",
          "data": {
            "image/png": "[encoded data removed]",
            "text/plain": [
              "<Figure size 432x288 with 1 Axes>"
            ]
          },
          "metadata": {}
        }
      ]
    },
    {
      "cell_type": "code",
      "metadata": {
        "id": "420fce30",
        "colab": {
          "base_uri": "https://localhost:8080/",
          "height": 359
        },
        "outputId": "ea52e0b8-16c4-4b75-aa6c-df5c77148c64"
      },
      "source": [
        "# Create DataFrame of results\n",
        "df_pred1 = pd.DataFrame({\"Predicted\": y_pred, \"Actual\": y_test, \"Error\": y_pred - y_test})[[\"Predicted\", \"Actual\", \"Error\"]]\n",
        "df_pred1.head(10)"
      ],
      "id": "420fce30",
      "execution_count": null,
      "outputs": [
        {
          "output_type": "execute_result",
          "data": {
            "text/html": [
              "<div>\n",
              "<style scoped>\n",
              "    .dataframe tbody tr th:only-of-type {\n",
              "        vertical-align: middle;\n",
              "    }\n",
              "\n",
              "    .dataframe tbody tr th {\n",
              "        vertical-align: top;\n",
              "    }\n",
              "\n",
              "    .dataframe thead th {\n",
              "        text-align: right;\n",
              "    }\n",
              "</style>\n",
              "<table border=\"1\" class=\"dataframe\">\n",
              "  <thead>\n",
              "    <tr style=\"text-align: right;\">\n",
              "      <th></th>\n",
              "      <th>Predicted</th>\n",
              "      <th>Actual</th>\n",
              "      <th>Error</th>\n",
              "    </tr>\n",
              "  </thead>\n",
              "  <tbody>\n",
              "    <tr>\n",
              "      <th>95</th>\n",
              "      <td>7025.794462</td>\n",
              "      <td>8249.0</td>\n",
              "      <td>-1223.205538</td>\n",
              "    </tr>\n",
              "    <tr>\n",
              "      <th>15</th>\n",
              "      <td>24702.017037</td>\n",
              "      <td>41315.0</td>\n",
              "      <td>-16612.982963</td>\n",
              "    </tr>\n",
              "    <tr>\n",
              "      <th>30</th>\n",
              "      <td>6281.804697</td>\n",
              "      <td>6855.0</td>\n",
              "      <td>-573.195303</td>\n",
              "    </tr>\n",
              "    <tr>\n",
              "      <th>158</th>\n",
              "      <td>7675.348783</td>\n",
              "      <td>9258.0</td>\n",
              "      <td>-1582.651217</td>\n",
              "    </tr>\n",
              "    <tr>\n",
              "      <th>128</th>\n",
              "      <td>12751.995361</td>\n",
              "      <td>11850.0</td>\n",
              "      <td>901.995361</td>\n",
              "    </tr>\n",
              "    <tr>\n",
              "      <th>115</th>\n",
              "      <td>6195.096601</td>\n",
              "      <td>5572.0</td>\n",
              "      <td>623.096601</td>\n",
              "    </tr>\n",
              "    <tr>\n",
              "      <th>69</th>\n",
              "      <td>27136.715771</td>\n",
              "      <td>35056.0</td>\n",
              "      <td>-7919.284229</td>\n",
              "    </tr>\n",
              "    <tr>\n",
              "      <th>171</th>\n",
              "      <td>12712.473365</td>\n",
              "      <td>9988.0</td>\n",
              "      <td>2724.473365</td>\n",
              "    </tr>\n",
              "    <tr>\n",
              "      <th>175</th>\n",
              "      <td>20727.769299</td>\n",
              "      <td>15998.0</td>\n",
              "      <td>4729.769299</td>\n",
              "    </tr>\n",
              "    <tr>\n",
              "      <th>45</th>\n",
              "      <td>31283.115764</td>\n",
              "      <td>35550.0</td>\n",
              "      <td>-4266.884236</td>\n",
              "    </tr>\n",
              "  </tbody>\n",
              "</table>\n",
              "</div>"
            ],
            "text/plain": [
              "        Predicted   Actual         Error\n",
              "95    7025.794462   8249.0  -1223.205538\n",
              "15   24702.017037  41315.0 -16612.982963\n",
              "30    6281.804697   6855.0   -573.195303\n",
              "158   7675.348783   9258.0  -1582.651217\n",
              "128  12751.995361  11850.0    901.995361\n",
              "115   6195.096601   5572.0    623.096601\n",
              "69   27136.715771  35056.0  -7919.284229\n",
              "171  12712.473365   9988.0   2724.473365\n",
              "175  20727.769299  15998.0   4729.769299\n",
              "45   31283.115764  35550.0  -4266.884236"
            ]
          },
          "metadata": {},
          "execution_count": 88
        }
      ]
    },
    {
      "cell_type": "code",
      "metadata": {
        "colab": {
          "base_uri": "https://localhost:8080/",
          "height": 387
        },
        "id": "gEoOCiF7KeC0",
        "outputId": "cf86e5b5-5aa3-40e1-94cd-f53b035f21e1"
      },
      "source": [
        "ax1 = sns.distplot(y_test,hist = False, color=\"r\", label=\"Actual Value\")\n",
        "sns.distplot(y_pred, hist = False, color=\"b\", label=\"predicted Value\", ax=ax1)\n",
        "plt.ylim(0,)\n",
        "plt.legend()\n",
        "plt.show()"
      ],
      "id": "gEoOCiF7KeC0",
      "execution_count": null,
      "outputs": [
        {
          "output_type": "stream",
          "name": "stderr",
          "text": [
            "/usr/local/lib/python3.7/dist-packages/seaborn/distributions.py:2619: FutureWarning: `distplot` is a deprecated function and will be removed in a future version. Please adapt your code to use either `displot` (a figure-level function with similar flexibility) or `kdeplot` (an axes-level function for kernel density plots).\n",
            "  warnings.warn(msg, FutureWarning)\n",
            "/usr/local/lib/python3.7/dist-packages/seaborn/distributions.py:2619: FutureWarning: `distplot` is a deprecated function and will be removed in a future version. Please adapt your code to use either `displot` (a figure-level function with similar flexibility) or `kdeplot` (an axes-level function for kernel density plots).\n",
            "  warnings.warn(msg, FutureWarning)\n"
          ]
        },
        {
          "output_type": "display_data",
          "data": {
            "image/png": "[encoded data removed]",
            "text/plain": [
              "<Figure size 432x288 with 1 Axes>"
            ]
          },
          "metadata": {}
        }
      ]
    }
  ]
}